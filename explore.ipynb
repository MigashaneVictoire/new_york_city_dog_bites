{
 "cells": [
  {
   "cell_type": "markdown",
   "id": "cdbeda19-f2d2-4c43-8bfe-c355602d449a",
   "metadata": {},
   "source": [
    "# Time series EDA"
   ]
  },
  {
   "cell_type": "markdown",
   "id": "f2dfe4a9-2475-45f7-a73c-8b614cef90d5",
   "metadata": {},
   "source": []
  },
  {
   "cell_type": "code",
   "execution_count": null,
   "id": "4fbfc9d6-b42d-4838-8c64-c33b5962b24e",
   "metadata": {},
   "outputs": [],
   "source": []
  }
 ],
 "metadata": {
  "kernelspec": {
   "display_name": "Python 3 (ipykernel)",
   "language": "python",
   "name": "python3"
  },
  "language_info": {
   "codemirror_mode": {
    "name": "ipython",
    "version": 3
   },
   "file_extension": ".py",
   "mimetype": "text/x-python",
   "name": "python",
   "nbconvert_exporter": "python",
   "pygments_lexer": "ipython3",
   "version": "3.10.9"
  }
 },
 "nbformat": 4,
 "nbformat_minor": 5
}
