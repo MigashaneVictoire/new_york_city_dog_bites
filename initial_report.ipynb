{
 "cells": [
  {
   "cell_type": "markdown",
   "id": "8a9a1339-e98b-4186-a906-71d71a82d29b",
   "metadata": {},
   "source": [
    "# Dog Bite Forcasting Initial Report"
   ]
  },
  {
   "cell_type": "markdown",
   "id": "7cce2881-836b-47e2-8571-02f2bbe98bbc",
   "metadata": {},
   "source": [
    "## Goal\n",
    "\n",
    "To predict the number of dog bites in New York City for the next week with reasonable accuracy. \n",
    "\n",
    "**Audience and importance**\n",
    "\n",
    "This goal is relevant because it can help authorities and relevant stakeholders to prepare for potential increases in dog bites and allocate resources accordingly to mitigate risks."
   ]
  },
  {
   "cell_type": "markdown",
   "id": "3c0b9ce4-9b04-4af7-80b1-31e9a2042fcc",
   "metadata": {},
   "source": [
    "## Wrangle\n",
    "\n",
    "**Acquire**\n",
    "- Data from [data.gov](https://catalog.data.gov/dataset/dohmh-dog-bite-data)\n",
    "- I have 22663 rows and 9 columns.\n",
    "- 8 columns are objects and 1 1 boolean.\n",
    "- 0 null count.\n",
    "- I also have descriptive statistics of my data.\n",
    "\n",
    "**Prepare**\n",
    "\n",
    "- Rename columns.\n",
    "- Convert data types (dateofbite).\n",
    "- Drop columns (all except dateofbite).\n",
    "- Drop duplicates (541, 2%).\n",
    "- Set and sort date index.\n",
    "- Check for gaps in time (0 days missing).\n",
    "    - Erliest time (2015-01-01).\n",
    "    - Latest time (2021-12-31).\n",
    "- Create a dog bit target column.\n",
    "    - Becas=use each row is a successfully recorded dog bite all rows are assigned to value 1.\n",
    "    \n",
    "- Engineer the target into daily bits counts.\n",
    "- Use human-based splitting.\n",
    "    - Because there is clear seasonality in the data.\n",
    "    \n",
    "#### DOHMH dog bite data dictionary\n",
    "\n",
    "The following is a data dictionary for the columns in the DOHMH dog bite dataset:\n",
    "\n",
    "| Column Name | Description                                     | Data Type |\n",
    "|-------------|-------------------------------------------------|-----------|\n",
    "| dateofbite  | Date when the dog bite incident was reported.   | Date      |\n",
    "| species     | Species of the dog involved in the incident.   | String    |\n",
    "| breed       | Breed of the dog involved in the incident.     | String    |\n",
    "| age         | Age of the dog involved in the incident.       | Integer   |\n",
    "| gender      | Gender of the dog involved in the incident.    | String    |\n",
    "| spayneuter  | Indicates if the dog is spayed/neutered.       | Boolean   |\n",
    "| borough     | Borough in New York City where the incident occurred. | String    |\n",
    "| zipcode     | Zip code of the location where the incident occurred. | Integer   |\n",
    "\n",
    "#### After Preparation\n",
    "\n",
    "| Column Name    | Description                                          | Data Type |\n",
    "|----------------|------------------------------------------------------|-----------|\n",
    "| borough     | Borough in New York City where the incident occurred. | String    |\n",
    "| bite           | The number of dog bite incidents reported for a day. | Integer   |\n",
    "| year           | The year of the dog bite incident.                  | Integer   |\n",
    "| month          | The name of the month of the dog bite incident.     | String    |\n",
    "| day            | The day of the month of the dog bite incident.      | Integer   |\n",
    "| month_number   | The numeric representation of the month (1 to 12).  | Integer   |\n",
    "| weekday_number | The numeric representation of the day of the week (0: Monday, 6: Sunday). | Integer   |"
   ]
  },
  {
   "cell_type": "markdown",
   "id": "32f59b34-55c4-45c0-a67d-b1d0bfb0e633",
   "metadata": {},
   "source": [
    "## Explore"
   ]
  },
  {
   "cell_type": "markdown",
   "id": "343ac814-094e-4197-9c4d-52f76198d629",
   "metadata": {},
   "source": [
    "Temporal Trends:\n",
    "- About constant level trend over time with a yearly seasonality to the data.\n",
    "\n",
    "Seasonal Patterns:\n",
    "- There is a clear seasonal pattern between years\n",
    "- June and July are with the higher bite average overall.\n",
    "- There is a large difference in bites between 2016 and 2018 that is not shown in 2017. (Looking at the month of June and July)\n",
    "\n",
    "Day of the Week:\n",
    "- Saturday has the highest concentrated average over all the dayers.\n",
    "- 2016 has the lowest average Saturday bits overall.\n",
    "- Weekends have the highest bites rate overall.\n",
    "\n",
    "Monthly and Daily Variations:\n",
    "- Day 25 has the highest average but all the days of the month are about the same.\n",
    "\n",
    "Outliers:\n",
    "- September and December have outliers that are extended more than usual.\n",
    "- The only consenting outlier on weekdays is on Wednesday.\n",
    "\n",
    "Day-to-Day Variability:\n",
    "- Bite mean week autocorrelation looks to be more steady than all the others. (Might be a better re-sample to more to modeling)\n",
    "- Here I see a negative linear relationship but doesn't look very strong.\n",
    "\n",
    "Seasonal decomposition:\n",
    "- The trend has no linearity to it but it shows a seasonal pattern\n",
    "- The seasonality looks to be over a year at a time\n",
    "- The residual is not steady, this shows iregulations in the data."
   ]
  },
  {
   "cell_type": "markdown",
   "id": "0ef30470-19f9-4099-a80d-c4dff5ed5848",
   "metadata": {},
   "source": [
    "## Recommendations\n",
    "- Use my model if you want to find bi-weekly changes in dog bite.\n",
    "- Local authorities to be on high alert in the (boroughs) and alocate more resorces in these rejons of the city.\n",
    "- To avoid giving random rabies choots after dog bite, it's important for the local authorities to on high alert, but it's also the resonsibility for the person beat to report the bite sooner to avoid the spread of the infection.\n",
    "\n",
    "## Future\n",
    "- Was the dog a neutered or not, to check the impact of time before medical attention.\n",
    "- What affect does the dogs age have on bites"
   ]
  }
 ],
 "metadata": {
  "kernelspec": {
   "display_name": "Python 3 (ipykernel)",
   "language": "python",
   "name": "python3"
  },
  "language_info": {
   "codemirror_mode": {
    "name": "ipython",
    "version": 3
   },
   "file_extension": ".py",
   "mimetype": "text/x-python",
   "name": "python",
   "nbconvert_exporter": "python",
   "pygments_lexer": "ipython3",
   "version": "3.10.9"
  }
 },
 "nbformat": 4,
 "nbformat_minor": 5
}
