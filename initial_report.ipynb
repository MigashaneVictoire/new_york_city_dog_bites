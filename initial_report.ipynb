{
 "cells": [
  {
   "cell_type": "markdown",
   "id": "8a9a1339-e98b-4186-a906-71d71a82d29b",
   "metadata": {},
   "source": [
    "# Dog Bite Forcasting Initial Report"
   ]
  },
  {
   "cell_type": "markdown",
   "id": "7cce2881-836b-47e2-8571-02f2bbe98bbc",
   "metadata": {},
   "source": [
    "## Goal\n",
    "\n",
    "To predict the number of dog bites in New York City for the next 3-months with reasonable accuracy. \n",
    "\n",
    "**Audience and importance**\n",
    "\n",
    "This goal is relevant because it can help authorities and relevant stakeholders to prepare for potential increases in dog bites and allocate resources accordingly to mitigate risks."
   ]
  },
  {
   "cell_type": "markdown",
   "id": "3c0b9ce4-9b04-4af7-80b1-31e9a2042fcc",
   "metadata": {},
   "source": [
    "## Wrangle\n",
    "\n",
    "**Acquire**\n",
    "\n",
    "- I have 22663 rows and 9 columns.\n",
    "- 8 columns are objects and 1 1 boolean.\n",
    "- 0 null count.\n",
    "- I also have descriptive statistics of my data.\n",
    "\n",
    "**Prepare**\n",
    "\n",
    "- Rename columns.\n",
    "- Convert data types (dateofbite).\n",
    "- Drop columns (all except dateofbite).\n",
    "- Drop duplicates (541, 2%).\n",
    "- Set and sort date index.\n",
    "- Check for gaps in time (0 days missing).\n",
    "    - Erliest time (2015-01-01).\n",
    "    - Latest time (2021-12-31).\n",
    "- Create a dog bit target column.\n",
    "    - Becas=use each row is a successfully recorded dog bite all rows are assigned to value 1.\n",
    "    \n",
    "- Engineer the target into daily bits counts.\n",
    "- Use human-based splitting.\n",
    "    - Because there is clear seasonality in the data.\n",
    "    \n",
    "#### DOHMH dog bite data dictionary\n",
    "\n",
    "The following is a data dictionary for the columns in the DOHMH dog bite dataset:\n",
    "\n",
    "| Column Name | Description                                     | Data Type |\n",
    "|-------------|-------------------------------------------------|-----------|\n",
    "| dateofbite  | Date when the dog bite incident was reported.   | Date      |\n",
    "| species     | Species of the dog involved in the incident.   | String    |\n",
    "| breed       | Breed of the dog involved in the incident.     | String    |\n",
    "| age         | Age of the dog involved in the incident.       | Integer   |\n",
    "| gender      | Gender of the dog involved in the incident.    | String    |\n",
    "| spayneuter  | Indicates if the dog is spayed/neutered.       | Boolean   |\n",
    "| borough     | Borough in New York City where the incident occurred. | String    |\n",
    "| zipcode     | Zip code of the location where the incident occurred. | Integer   |\n",
    "\n",
    "#### After Preparation\n",
    "\n",
    "| Column Name    | Description                                          | Data Type |\n",
    "|----------------|------------------------------------------------------|-----------|\n",
    "| bite           | The number of dog bite incidents reported for a day. | Integer   |\n",
    "| year           | The year of the dog bite incident.                  | Integer   |\n",
    "| month          | The name of the month of the dog bite incident.     | String    |\n",
    "| day            | The day of the month of the dog bite incident.      | Integer   |\n",
    "| month_number   | The numeric representation of the month (1 to 12).  | Integer   |\n",
    "| weekday_number | The numeric representation of the day of the week (0: Monday, 6: Sunday). | Integer   |"
   ]
  },
  {
   "cell_type": "markdown",
   "id": "32f59b34-55c4-45c0-a67d-b1d0bfb0e633",
   "metadata": {},
   "source": [
    "## Explore"
   ]
  },
  {
   "cell_type": "code",
   "execution_count": null,
   "id": "e8508472-cf9f-4f15-a65d-a7b21efef05c",
   "metadata": {},
   "outputs": [],
   "source": []
  }
 ],
 "metadata": {
  "kernelspec": {
   "display_name": "Python 3 (ipykernel)",
   "language": "python",
   "name": "python3"
  },
  "language_info": {
   "codemirror_mode": {
    "name": "ipython",
    "version": 3
   },
   "file_extension": ".py",
   "mimetype": "text/x-python",
   "name": "python",
   "nbconvert_exporter": "python",
   "pygments_lexer": "ipython3",
   "version": "3.10.9"
  }
 },
 "nbformat": 4,
 "nbformat_minor": 5
}
