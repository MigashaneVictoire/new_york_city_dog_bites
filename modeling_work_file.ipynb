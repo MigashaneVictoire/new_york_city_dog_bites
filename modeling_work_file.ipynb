{
 "cells": [
  {
   "cell_type": "markdown",
   "id": "f0bd15dc-b198-4b32-b7e5-dce8887d6413",
   "metadata": {},
   "source": [
    "# Modeling"
   ]
  },
  {
   "cell_type": "code",
   "execution_count": 1,
   "id": "a112a4ac-ea97-4289-9992-915426aa2366",
   "metadata": {},
   "outputs": [],
   "source": [
    "# for presentation purposes\n",
    "import warnings\n",
    "warnings.filterwarnings(\"ignore\")\n",
    "\n",
    "# transform\n",
    "import numpy as np\n",
    "import pandas as pd\n",
    "\n",
    "# visualize \n",
    "import matplotlib.pyplot as plt\n",
    "import seaborn as sns\n",
    "\n",
    "# working with dates\n",
    "from datetime import datetime\n",
    "\n",
    "# modeling\n",
    "import statsmodels.api as sm\n",
    "from statsmodels.tsa.api import Holt, ExponentialSmoothing\n",
    "\n",
    "# evaluate\n",
    "from sklearn.metrics import mean_squared_error\n",
    "from math import sqrt \n",
    "\n",
    "np.random.seed(95)\n",
    "import math"
   ]
  },
  {
   "cell_type": "code",
   "execution_count": 2,
   "id": "f22747b5-6eb4-4a76-a3a7-023b8b781ecb",
   "metadata": {},
   "outputs": [
    {
     "data": {
      "text/html": [
       "<div>\n",
       "<style scoped>\n",
       "    .dataframe tbody tr th:only-of-type {\n",
       "        vertical-align: middle;\n",
       "    }\n",
       "\n",
       "    .dataframe tbody tr th {\n",
       "        vertical-align: top;\n",
       "    }\n",
       "\n",
       "    .dataframe thead th {\n",
       "        text-align: right;\n",
       "    }\n",
       "</style>\n",
       "<table border=\"1\" class=\"dataframe\">\n",
       "  <thead>\n",
       "    <tr style=\"text-align: right;\">\n",
       "      <th></th>\n",
       "      <th>zipcode</th>\n",
       "      <th>bite</th>\n",
       "    </tr>\n",
       "    <tr>\n",
       "      <th>dateofbite</th>\n",
       "      <th></th>\n",
       "      <th></th>\n",
       "    </tr>\n",
       "  </thead>\n",
       "  <tbody>\n",
       "    <tr>\n",
       "      <th>2015-01-01</th>\n",
       "      <td>NaN</td>\n",
       "      <td>1</td>\n",
       "    </tr>\n",
       "    <tr>\n",
       "      <th>2015-01-01</th>\n",
       "      <td>11220</td>\n",
       "      <td>1</td>\n",
       "    </tr>\n",
       "    <tr>\n",
       "      <th>2015-01-01</th>\n",
       "      <td>10026</td>\n",
       "      <td>1</td>\n",
       "    </tr>\n",
       "    <tr>\n",
       "      <th>2015-01-01</th>\n",
       "      <td>11221</td>\n",
       "      <td>1</td>\n",
       "    </tr>\n",
       "    <tr>\n",
       "      <th>2015-01-01</th>\n",
       "      <td>NaN</td>\n",
       "      <td>1</td>\n",
       "    </tr>\n",
       "  </tbody>\n",
       "</table>\n",
       "</div>"
      ],
      "text/plain": [
       "           zipcode  bite\n",
       "dateofbite              \n",
       "2015-01-01     NaN     1\n",
       "2015-01-01   11220     1\n",
       "2015-01-01   10026     1\n",
       "2015-01-01   11221     1\n",
       "2015-01-01     NaN     1"
      ]
     },
     "execution_count": 2,
     "metadata": {},
     "output_type": "execute_result"
    }
   ],
   "source": [
    "# load data from existing csv\n",
    "train = pd.read_csv(\"./00_project_data/1-1_training_data.csv\", index_col=0)\n",
    "validate = pd.read_csv(\"./00_project_data/1-2_validation_data.csv\", index_col=0)\n",
    "test = pd.read_csv(\"./00_project_data/1-3_testing_data.csv\", index_col=0)\n",
    "train.head()"
   ]
  },
  {
   "cell_type": "markdown",
   "id": "c2e1e3be-c304-40ba-817e-61e17e4a81bd",
   "metadata": {},
   "source": [
    "**Final cleaning**"
   ]
  },
  {
   "cell_type": "code",
   "execution_count": 3,
   "id": "48fce801-8111-4f36-8a92-df32ca4df644",
   "metadata": {},
   "outputs": [],
   "source": [
    "# covert the index to datetime\n",
    "train.index = train.index.astype(\"datetime64\")\n",
    "validate.index = validate.index.astype(\"datetime64\")\n",
    "test.index = test.index.astype(\"datetime64\")"
   ]
  },
  {
   "cell_type": "code",
   "execution_count": 4,
   "id": "42caf20f-9965-43ad-be45-a7b8f44deecb",
   "metadata": {},
   "outputs": [
    {
     "data": {
      "text/html": [
       "<div>\n",
       "<style scoped>\n",
       "    .dataframe tbody tr th:only-of-type {\n",
       "        vertical-align: middle;\n",
       "    }\n",
       "\n",
       "    .dataframe tbody tr th {\n",
       "        vertical-align: top;\n",
       "    }\n",
       "\n",
       "    .dataframe thead th {\n",
       "        text-align: right;\n",
       "    }\n",
       "</style>\n",
       "<table border=\"1\" class=\"dataframe\">\n",
       "  <thead>\n",
       "    <tr style=\"text-align: right;\">\n",
       "      <th></th>\n",
       "      <th>bite</th>\n",
       "    </tr>\n",
       "    <tr>\n",
       "      <th>dateofbite</th>\n",
       "      <th></th>\n",
       "    </tr>\n",
       "  </thead>\n",
       "  <tbody>\n",
       "    <tr>\n",
       "      <th>2015-01-01</th>\n",
       "      <td>7</td>\n",
       "    </tr>\n",
       "    <tr>\n",
       "      <th>2015-01-02</th>\n",
       "      <td>9</td>\n",
       "    </tr>\n",
       "    <tr>\n",
       "      <th>2015-01-03</th>\n",
       "      <td>7</td>\n",
       "    </tr>\n",
       "    <tr>\n",
       "      <th>2015-01-04</th>\n",
       "      <td>11</td>\n",
       "    </tr>\n",
       "    <tr>\n",
       "      <th>2015-01-05</th>\n",
       "      <td>5</td>\n",
       "    </tr>\n",
       "  </tbody>\n",
       "</table>\n",
       "</div>"
      ],
      "text/plain": [
       "            bite\n",
       "dateofbite      \n",
       "2015-01-01     7\n",
       "2015-01-02     9\n",
       "2015-01-03     7\n",
       "2015-01-04    11\n",
       "2015-01-05     5"
      ]
     },
     "execution_count": 4,
     "metadata": {},
     "output_type": "execute_result"
    }
   ],
   "source": [
    "train = train.resample('D').bite.sum()\n",
    "validate = validate.resample('D').bite.sum()\n",
    "test = test.resample('D').bite.sum()\n",
    "train = pd.DataFrame(train)\n",
    "validate = pd.DataFrame(validate)\n",
    "test = pd.DataFrame(test)\n",
    "\n",
    "train.head()"
   ]
  },
  {
   "cell_type": "code",
   "execution_count": 5,
   "id": "f4df3797-ef9a-4ed2-9f93-f2e168292e63",
   "metadata": {},
   "outputs": [],
   "source": [
    "# train = train.resample('W').bite.sum()\n",
    "# validate = validate.resample('W').bite.sum()\n",
    "# train = pd.DataFrame(train)\n",
    "# validate = pd.DataFrame(validate)\n",
    "\n",
    "# validate.tail()"
   ]
  },
  {
   "cell_type": "markdown",
   "id": "b650323c-af57-4daf-a8ad-510c57c03afc",
   "metadata": {},
   "source": [
    "**Visulize train and validate**"
   ]
  },
  {
   "cell_type": "code",
   "execution_count": 6,
   "id": "a75d29e3-1368-45e8-b4dc-a8199a4ef1ba",
   "metadata": {},
   "outputs": [
    {
     "data": {
      "image/png": "[encoded data removed]",
      "text/plain": [
       "<Figure size 800x300 with 1 Axes>"
      ]
     },
     "metadata": {},
     "output_type": "display_data"
    }
   ],
   "source": [
    "# plt the value value fof bite over time\n",
    "plt.figure(figsize=(8,3))\n",
    "plt.plot(train.bite)\n",
    "plt.plot(validate.bite)\n",
    "plt.title(\"Dog bite over time\")\n",
    "plt.show()"
   ]
  },
  {
   "cell_type": "markdown",
   "id": "31b866a0-4cbb-4d88-9cd3-86f4a9ea4f94",
   "metadata": {},
   "source": [
    "**Create an evaluation function**\n",
    "\n",
    "evaluate() will compute the Mean Squared Error and the Rood Mean Squared Error to evaluate."
   ]
  },
  {
   "cell_type": "code",
   "execution_count": 7,
   "id": "73383806-e8ad-420c-8798-b02d48f5215c",
   "metadata": {},
   "outputs": [],
   "source": [
    "# evaluation funtion\n",
    "def evaluate(target):\n",
    "    \"\"\"\n",
    "    Takes in the target col name and return the root mean square error for\n",
    "    the validate/test against the predicted values.\n",
    "    \"\"\"\n",
    "    rmse = round(sqrt( # get root mean square error\n",
    "        mean_squared_error(validate[target], y_pred_df[target])),3) # get mean squared error\n",
    "    return rmse\n",
    "    "
   ]
  },
  {
   "cell_type": "markdown",
   "id": "9085ddca-465a-4cdb-bb0f-9692bdf8fa87",
   "metadata": {},
   "source": [
    "**Plot evaluation funtion**"
   ]
  },
  {
   "cell_type": "code",
   "execution_count": 8,
   "id": "febf9553-215e-49b8-9724-a3b59b22c87d",
   "metadata": {},
   "outputs": [],
   "source": [
    "# plot predictions vs actual values\n",
    "def plot_evaluate(target):\n",
    "    \"\"\"\n",
    "    Function will return a plot of the predicted values against the actual values in the data.\n",
    "    \"\"\"\n",
    "    # plt.ioff()\n",
    "    # plt the value value fof bite over time and the predicted\n",
    "    plt.figure(figsize=(8,3))\n",
    "    plt.plot(train.bite, label=\"Train\", linewidth=1)\n",
    "    plt.plot(validate.bite,label=\"Validate\", linewidth=1)\n",
    "    plt.plot(y_pred_df[target],label=\"Prediction\", linewidth=1 )\n",
    "    plt.title(\"Dog bite over time prediction\")\n",
    "    \n",
    "    rmse = evaluate(target)\n",
    "    print(target, f'-- rmse: {round(rmse,2)}')\n",
    "    plt.legend()"
   ]
  },
  {
   "cell_type": "markdown",
   "id": "0d779d28-bfd7-472b-b056-0e30bcf27f0d",
   "metadata": {},
   "source": [
    "**Evaluation data frame**"
   ]
  },
  {
   "cell_type": "code",
   "execution_count": 9,
   "id": "3c2f183c-b7bd-49b5-887d-abcfb91f089b",
   "metadata": {},
   "outputs": [
    {
     "data": {
      "text/html": [
       "<div>\n",
       "<style scoped>\n",
       "    .dataframe tbody tr th:only-of-type {\n",
       "        vertical-align: middle;\n",
       "    }\n",
       "\n",
       "    .dataframe tbody tr th {\n",
       "        vertical-align: top;\n",
       "    }\n",
       "\n",
       "    .dataframe thead th {\n",
       "        text-align: right;\n",
       "    }\n",
       "</style>\n",
       "<table border=\"1\" class=\"dataframe\">\n",
       "  <thead>\n",
       "    <tr style=\"text-align: right;\">\n",
       "      <th></th>\n",
       "      <th>model</th>\n",
       "      <th>target</th>\n",
       "      <th>rmse</th>\n",
       "    </tr>\n",
       "  </thead>\n",
       "  <tbody>\n",
       "  </tbody>\n",
       "</table>\n",
       "</div>"
      ],
      "text/plain": [
       "Empty DataFrame\n",
       "Columns: [model, target, rmse]\n",
       "Index: []"
      ]
     },
     "execution_count": 9,
     "metadata": {},
     "output_type": "execute_result"
    }
   ],
   "source": [
    "# create evaluation dataframe\n",
    "eval_df = pd.DataFrame(columns=[\"model\", \"target\", \"rmse\"])\n",
    "eval_df"
   ]
  },
  {
   "cell_type": "code",
   "execution_count": 10,
   "id": "d9960fb2-6173-4407-a18f-bbeb0ffa1a66",
   "metadata": {},
   "outputs": [],
   "source": [
    "# function to append to the evaluation dataframe\n",
    "def append_to_eval(model, target):\n",
    "    \"\"\"\n",
    "    Function append the current running model results the historical models.\n",
    "    \"\"\"\n",
    "    rmse = evaluate(target)\n",
    "    res_dict = pd.DataFrame({\"model\":[model],\n",
    "               \"target\": [target],\n",
    "               \"rmse\":[rmse]})\n",
    "    return pd.concat([eval_df, res_dict])"
   ]
  },
  {
   "cell_type": "markdown",
   "id": "72bf9f68-1602-40e9-9f65-1f1a7bfa2e17",
   "metadata": {},
   "source": [
    "## Baseline model (Moving Average)\n",
    "\n",
    "I will use a iterating day lag moving average to forecast."
   ]
  },
  {
   "cell_type": "code",
   "execution_count": 11,
   "id": "86414f07-e699-4ed3-8598-2cc13c85a12c",
   "metadata": {},
   "outputs": [],
   "source": [
    "# looking at 2% of the validation data\n",
    "lags = math.ceil(validate.shape[0] * .3)\n",
    "\n",
    "for i in range(1, lags + 1):\n",
    "    # get the average over a lot of different days\n",
    "    rolling_quantity = round(train.bite.rolling(i).mean()[-1],2)\n",
    "    \n",
    "    # predict baseline over time\n",
    "    y_pred_df = pd.DataFrame({\"bite\": rolling_quantity},\n",
    "                             index=validate.index)\n",
    "    \n",
    "    # update the evaluate dataframe\n",
    "    model_type = str(i) + '_day_moving_avg'\n",
    "    eval_df= append_to_eval(model=model_type, target=\"bite\")\n",
    "    "
   ]
  },
  {
   "cell_type": "code",
   "execution_count": 12,
   "id": "e58c3edf-db02-48d3-ae80-048819c689bd",
   "metadata": {
    "tags": []
   },
   "outputs": [
    {
     "data": {
      "text/html": [
       "<div>\n",
       "<style scoped>\n",
       "    .dataframe tbody tr th:only-of-type {\n",
       "        vertical-align: middle;\n",
       "    }\n",
       "\n",
       "    .dataframe tbody tr th {\n",
       "        vertical-align: top;\n",
       "    }\n",
       "\n",
       "    .dataframe thead th {\n",
       "        text-align: right;\n",
       "    }\n",
       "</style>\n",
       "<table border=\"1\" class=\"dataframe\">\n",
       "  <thead>\n",
       "    <tr style=\"text-align: right;\">\n",
       "      <th></th>\n",
       "      <th>model</th>\n",
       "      <th>target</th>\n",
       "      <th>rmse</th>\n",
       "    </tr>\n",
       "  </thead>\n",
       "  <tbody>\n",
       "    <tr>\n",
       "      <th>0</th>\n",
       "      <td>1_day_moving_avg</td>\n",
       "      <td>bite</td>\n",
       "      <td>4.708</td>\n",
       "    </tr>\n",
       "    <tr>\n",
       "      <th>0</th>\n",
       "      <td>2_day_moving_avg</td>\n",
       "      <td>bite</td>\n",
       "      <td>3.986</td>\n",
       "    </tr>\n",
       "    <tr>\n",
       "      <th>0</th>\n",
       "      <td>3_day_moving_avg</td>\n",
       "      <td>bite</td>\n",
       "      <td>3.784</td>\n",
       "    </tr>\n",
       "  </tbody>\n",
       "</table>\n",
       "</div>"
      ],
      "text/plain": [
       "              model target   rmse\n",
       "0  1_day_moving_avg   bite  4.708\n",
       "0  2_day_moving_avg   bite  3.986\n",
       "0  3_day_moving_avg   bite  3.784"
      ]
     },
     "execution_count": 12,
     "metadata": {},
     "output_type": "execute_result"
    }
   ],
   "source": [
    "eval_df.head(3)"
   ]
  },
  {
   "cell_type": "markdown",
   "id": "9c49c2b8-5bba-4568-a216-a6e31b3e7324",
   "metadata": {},
   "source": [
    "**Plot actual vs predicted**"
   ]
  },
  {
   "cell_type": "code",
   "execution_count": 13,
   "id": "4df7fd23-d463-4bd2-bb8f-6d26996c8caf",
   "metadata": {},
   "outputs": [],
   "source": [
    "# plot_evaluate(\"bite\")\n",
    "# plt.show()"
   ]
  },
  {
   "cell_type": "markdown",
   "id": "3b244c53-4098-4cb0-9198-847e2affbbd5",
   "metadata": {},
   "source": [
    "## Holt linear trend"
   ]
  },
  {
   "cell_type": "code",
   "execution_count": 14,
   "id": "d9e3a73e-cbc6-49ee-9d5c-082bf96b7d49",
   "metadata": {},
   "outputs": [],
   "source": [
    "# create object fit and predict\n",
    "model = Holt(train[\"bite\"], exponential=False, damped=True)\n",
    "model = model.fit(optimized=True)\n",
    "\n",
    "y_pred_values = model.predict(start=validate.index[0],\n",
    "                            end= validate.index[-1])\n",
    "y_pred_df[\"bite\"] = round(y_pred_values, 3)"
   ]
  },
  {
   "cell_type": "code",
   "execution_count": 15,
   "id": "2e63f2f0-d37b-4f70-95a2-1e5f82bad941",
   "metadata": {},
   "outputs": [
    {
     "data": {
      "text/html": [
       "<div>\n",
       "<style scoped>\n",
       "    .dataframe tbody tr th:only-of-type {\n",
       "        vertical-align: middle;\n",
       "    }\n",
       "\n",
       "    .dataframe tbody tr th {\n",
       "        vertical-align: top;\n",
       "    }\n",
       "\n",
       "    .dataframe thead th {\n",
       "        text-align: right;\n",
       "    }\n",
       "</style>\n",
       "<table border=\"1\" class=\"dataframe\">\n",
       "  <thead>\n",
       "    <tr style=\"text-align: right;\">\n",
       "      <th></th>\n",
       "      <th>bite</th>\n",
       "    </tr>\n",
       "    <tr>\n",
       "      <th>dateofbite</th>\n",
       "      <th></th>\n",
       "    </tr>\n",
       "  </thead>\n",
       "  <tbody>\n",
       "    <tr>\n",
       "      <th>2019-01-01</th>\n",
       "      <td>6.562</td>\n",
       "    </tr>\n",
       "  </tbody>\n",
       "</table>\n",
       "</div>"
      ],
      "text/plain": [
       "             bite\n",
       "dateofbite       \n",
       "2019-01-01  6.562"
      ]
     },
     "execution_count": 15,
     "metadata": {},
     "output_type": "execute_result"
    }
   ],
   "source": [
    "# no frequncy infomation provided so D is used\n",
    "y_pred_df.head(1)"
   ]
  },
  {
   "cell_type": "markdown",
   "id": "e8018b51-bb2a-44d4-928e-6f614b485ed9",
   "metadata": {},
   "source": [
    "**Add to evaluation dataframe**"
   ]
  },
  {
   "cell_type": "code",
   "execution_count": 16,
   "id": "ab6f5c0c-bad8-42c8-8509-24ac3a4a6b41",
   "metadata": {},
   "outputs": [],
   "source": [
    "eval_df = append_to_eval(model = 'holts_optimized', \n",
    "                            target= \"bite\")"
   ]
  },
  {
   "cell_type": "code",
   "execution_count": 17,
   "id": "7573e080-998b-4c11-b91f-a92cb1c1b657",
   "metadata": {},
   "outputs": [
    {
     "data": {
      "text/html": [
       "<div>\n",
       "<style scoped>\n",
       "    .dataframe tbody tr th:only-of-type {\n",
       "        vertical-align: middle;\n",
       "    }\n",
       "\n",
       "    .dataframe tbody tr th {\n",
       "        vertical-align: top;\n",
       "    }\n",
       "\n",
       "    .dataframe thead th {\n",
       "        text-align: right;\n",
       "    }\n",
       "</style>\n",
       "<table border=\"1\" class=\"dataframe\">\n",
       "  <thead>\n",
       "    <tr style=\"text-align: right;\">\n",
       "      <th></th>\n",
       "      <th>model</th>\n",
       "      <th>target</th>\n",
       "      <th>rmse</th>\n",
       "    </tr>\n",
       "  </thead>\n",
       "  <tbody>\n",
       "    <tr>\n",
       "      <th>0</th>\n",
       "      <td>219_day_moving_avg</td>\n",
       "      <td>bite</td>\n",
       "      <td>4.003</td>\n",
       "    </tr>\n",
       "    <tr>\n",
       "      <th>0</th>\n",
       "      <td>220_day_moving_avg</td>\n",
       "      <td>bite</td>\n",
       "      <td>4.006</td>\n",
       "    </tr>\n",
       "    <tr>\n",
       "      <th>0</th>\n",
       "      <td>holts_optimized</td>\n",
       "      <td>bite</td>\n",
       "      <td>4.117</td>\n",
       "    </tr>\n",
       "  </tbody>\n",
       "</table>\n",
       "</div>"
      ],
      "text/plain": [
       "                model target   rmse\n",
       "0  219_day_moving_avg   bite  4.003\n",
       "0  220_day_moving_avg   bite  4.006\n",
       "0     holts_optimized   bite  4.117"
      ]
     },
     "execution_count": 17,
     "metadata": {},
     "output_type": "execute_result"
    }
   ],
   "source": [
    "eval_df.tail(3)"
   ]
  },
  {
   "cell_type": "markdown",
   "id": "ce3704fb-4099-4ad6-8def-2b3bb4461647",
   "metadata": {},
   "source": [
    "## Holts seasonal trend"
   ]
  },
  {
   "cell_type": "code",
   "execution_count": 18,
   "id": "e94fd6f5-de37-4757-8fa4-f68dc3587680",
   "metadata": {},
   "outputs": [
    {
     "data": {
      "text/plain": [
       "<statsmodels.tsa.holtwinters.results.HoltWintersResultsWrapper at 0x141932440>"
      ]
     },
     "execution_count": 18,
     "metadata": {},
     "output_type": "execute_result"
    }
   ],
   "source": [
    "# Models for quantity\n",
    "hst_fit1 = ExponentialSmoothing(train.bite, seasonal_periods=365, trend='add', seasonal='add').fit()\n",
    "hst_fit2 = ExponentialSmoothing(train.bite, seasonal_periods=365, trend='add', seasonal='mul').fit()\n",
    "hst_fit3 = ExponentialSmoothing(train.bite, seasonal_periods=365, trend='add', seasonal='add', damped=True).fit()\n",
    "hst_fit4 = ExponentialSmoothing(train.bite, seasonal_periods=365, trend='add', seasonal='mul', damped=True).fit()\n",
    "\n",
    "# combos = list(itertools.product(['add','mul'],[True, False]))\n",
    "hst_fit1"
   ]
  },
  {
   "cell_type": "markdown",
   "id": "eaa41c2d-ceea-4316-8255-a848474fe074",
   "metadata": {},
   "source": [
    "The model contains a SSE attribute that we can use to compare performance. We can derive RMSE from SSE, but for now, we can just use SSE to look at the relative performance of our Holt's Seasonal Trend models."
   ]
  },
  {
   "cell_type": "code",
   "execution_count": 19,
   "id": "c643a3ca-e782-41eb-a4c9-019ac2f5f189",
   "metadata": {},
   "outputs": [
    {
     "data": {
      "text/html": [
       "<div>\n",
       "<style scoped>\n",
       "    .dataframe tbody tr th:only-of-type {\n",
       "        vertical-align: middle;\n",
       "    }\n",
       "\n",
       "    .dataframe tbody tr th {\n",
       "        vertical-align: top;\n",
       "    }\n",
       "\n",
       "    .dataframe thead th {\n",
       "        text-align: right;\n",
       "    }\n",
       "</style>\n",
       "<table border=\"1\" class=\"dataframe\">\n",
       "  <thead>\n",
       "    <tr style=\"text-align: right;\">\n",
       "      <th></th>\n",
       "      <th>model</th>\n",
       "      <th>SSE</th>\n",
       "    </tr>\n",
       "  </thead>\n",
       "  <tbody>\n",
       "    <tr>\n",
       "      <th>3</th>\n",
       "      <td>hst_fit4</td>\n",
       "      <td>11690.705455</td>\n",
       "    </tr>\n",
       "    <tr>\n",
       "      <th>1</th>\n",
       "      <td>hst_fit2</td>\n",
       "      <td>11702.167921</td>\n",
       "    </tr>\n",
       "    <tr>\n",
       "      <th>2</th>\n",
       "      <td>hst_fit3</td>\n",
       "      <td>11721.766427</td>\n",
       "    </tr>\n",
       "    <tr>\n",
       "      <th>0</th>\n",
       "      <td>hst_fit1</td>\n",
       "      <td>11737.386896</td>\n",
       "    </tr>\n",
       "  </tbody>\n",
       "</table>\n",
       "</div>"
      ],
      "text/plain": [
       "      model           SSE\n",
       "3  hst_fit4  11690.705455\n",
       "1  hst_fit2  11702.167921\n",
       "2  hst_fit3  11721.766427\n",
       "0  hst_fit1  11737.386896"
      ]
     },
     "execution_count": 19,
     "metadata": {},
     "output_type": "execute_result"
    }
   ],
   "source": [
    "models = [\"hst_fit1\", 'hst_fit2', 'hst_fit3', 'hst_fit4']\n",
    "\n",
    "results=pd.DataFrame({'model': models,\n",
    "                      'SSE':[hst_fit1.sse, hst_fit2.sse, hst_fit3.sse, hst_fit4.sse]})\n",
    "results.sort_values(by='SSE')"
   ]
  },
  {
   "cell_type": "code",
   "execution_count": 20,
   "id": "42b03e8c-d7c0-43c2-a75e-7f410785423d",
   "metadata": {},
   "outputs": [
    {
     "data": {
      "text/html": [
       "<div>\n",
       "<style scoped>\n",
       "    .dataframe tbody tr th:only-of-type {\n",
       "        vertical-align: middle;\n",
       "    }\n",
       "\n",
       "    .dataframe tbody tr th {\n",
       "        vertical-align: top;\n",
       "    }\n",
       "\n",
       "    .dataframe thead th {\n",
       "        text-align: right;\n",
       "    }\n",
       "</style>\n",
       "<table border=\"1\" class=\"dataframe\">\n",
       "  <thead>\n",
       "    <tr style=\"text-align: right;\">\n",
       "      <th></th>\n",
       "      <th>bite</th>\n",
       "    </tr>\n",
       "    <tr>\n",
       "      <th>dateofbite</th>\n",
       "      <th></th>\n",
       "    </tr>\n",
       "  </thead>\n",
       "  <tbody>\n",
       "    <tr>\n",
       "      <th>2019-01-01</th>\n",
       "      <td>9.848106</td>\n",
       "    </tr>\n",
       "    <tr>\n",
       "      <th>2019-01-02</th>\n",
       "      <td>7.949973</td>\n",
       "    </tr>\n",
       "    <tr>\n",
       "      <th>2019-01-03</th>\n",
       "      <td>7.601826</td>\n",
       "    </tr>\n",
       "    <tr>\n",
       "      <th>2019-01-04</th>\n",
       "      <td>5.719924</td>\n",
       "    </tr>\n",
       "    <tr>\n",
       "      <th>2019-01-05</th>\n",
       "      <td>3.320624</td>\n",
       "    </tr>\n",
       "  </tbody>\n",
       "</table>\n",
       "</div>"
      ],
      "text/plain": [
       "                bite\n",
       "dateofbite          \n",
       "2019-01-01  9.848106\n",
       "2019-01-02  7.949973\n",
       "2019-01-03  7.601826\n",
       "2019-01-04  5.719924\n",
       "2019-01-05  3.320624"
      ]
     },
     "execution_count": 20,
     "metadata": {},
     "output_type": "execute_result"
    }
   ],
   "source": [
    "#  Make predictions using .forecast\n",
    "y_pred_df = pd.DataFrame({'bite': hst_fit4.forecast(validate.shape[0] + 1)}, index=validate.index)\n",
    "y_pred_df.head()"
   ]
  },
  {
   "cell_type": "markdown",
   "id": "67ae87c8-a596-415f-9667-1f829389d2fb",
   "metadata": {},
   "source": [
    "**Add to evaluation dataframe**"
   ]
  },
  {
   "cell_type": "code",
   "execution_count": 21,
   "id": "2f954c49-84f6-4e65-b3db-b27186b62bbe",
   "metadata": {},
   "outputs": [
    {
     "name": "stdout",
     "output_type": "stream",
     "text": [
      "bite -- rmse: 3.99\n"
     ]
    },
    {
     "data": {
      "text/html": [
       "<div>\n",
       "<style scoped>\n",
       "    .dataframe tbody tr th:only-of-type {\n",
       "        vertical-align: middle;\n",
       "    }\n",
       "\n",
       "    .dataframe tbody tr th {\n",
       "        vertical-align: top;\n",
       "    }\n",
       "\n",
       "    .dataframe thead th {\n",
       "        text-align: right;\n",
       "    }\n",
       "</style>\n",
       "<table border=\"1\" class=\"dataframe\">\n",
       "  <thead>\n",
       "    <tr style=\"text-align: right;\">\n",
       "      <th></th>\n",
       "      <th>model</th>\n",
       "      <th>target</th>\n",
       "      <th>rmse</th>\n",
       "    </tr>\n",
       "  </thead>\n",
       "  <tbody>\n",
       "    <tr>\n",
       "      <th>0</th>\n",
       "      <td>220_day_moving_avg</td>\n",
       "      <td>bite</td>\n",
       "      <td>4.006</td>\n",
       "    </tr>\n",
       "    <tr>\n",
       "      <th>0</th>\n",
       "      <td>holts_optimized</td>\n",
       "      <td>bite</td>\n",
       "      <td>4.117</td>\n",
       "    </tr>\n",
       "    <tr>\n",
       "      <th>0</th>\n",
       "      <td>holts_seasonal_trend</td>\n",
       "      <td>bite</td>\n",
       "      <td>3.986</td>\n",
       "    </tr>\n",
       "  </tbody>\n",
       "</table>\n",
       "</div>"
      ],
      "text/plain": [
       "                  model target   rmse\n",
       "0    220_day_moving_avg   bite  4.006\n",
       "0       holts_optimized   bite  4.117\n",
       "0  holts_seasonal_trend   bite  3.986"
      ]
     },
     "execution_count": 21,
     "metadata": {},
     "output_type": "execute_result"
    },
    {
     "data": {
      "image/png": "[encoded data removed]",
      "text/plain": [
       "<Figure size 800x300 with 1 Axes>"
      ]
     },
     "metadata": {},
     "output_type": "display_data"
    }
   ],
   "source": [
    "# add results to the evaluation dataframe\n",
    "plot_evaluate(target= \"bite\")\n",
    "eval_df = append_to_eval(model = 'holts_seasonal_trend', target = \"bite\")\n",
    "eval_df.tail(3)"
   ]
  },
  {
   "cell_type": "markdown",
   "id": "c994d7dc-a3d5-4037-8b79-af367042db27",
   "metadata": {},
   "source": [
    "# Predict base on previous cycle"
   ]
  },
  {
   "cell_type": "code",
   "execution_count": 22,
   "id": "376696d8-3985-44fe-9a9a-07eaeb6b566d",
   "metadata": {},
   "outputs": [
    {
     "data": {
      "text/plain": [
       "bite    0.21067\n",
       "dtype: float64"
      ]
     },
     "execution_count": 22,
     "metadata": {},
     "output_type": "execute_result"
    }
   ],
   "source": [
    "# Calculates the difference of a DataFrame element compared with another element\n",
    "# period (lag) (must be th lenght of the validation season)\n",
    "mean_diff = train.diff(periods=365 * 2).mean()\n",
    "mean_diff"
   ]
  },
  {
   "cell_type": "code",
   "execution_count": 23,
   "id": "a00d7b27-3b3c-4e07-a924-b1b2e9fe56e3",
   "metadata": {},
   "outputs": [],
   "source": [
    "# find the diff. add to each value in 2015.\n",
    "y_pred_df = train['2016':'2017'] + mean_diff\n",
    "\n",
    "# set yhat_df to index of validate\n",
    "y_pred_df.index = validate.index"
   ]
  },
  {
   "cell_type": "code",
   "execution_count": 24,
   "id": "d4e06dcb-0e43-4d86-b724-f7f60981578e",
   "metadata": {},
   "outputs": [
    {
     "data": {
      "text/html": [
       "<div>\n",
       "<style scoped>\n",
       "    .dataframe tbody tr th:only-of-type {\n",
       "        vertical-align: middle;\n",
       "    }\n",
       "\n",
       "    .dataframe tbody tr th {\n",
       "        vertical-align: top;\n",
       "    }\n",
       "\n",
       "    .dataframe thead th {\n",
       "        text-align: right;\n",
       "    }\n",
       "</style>\n",
       "<table border=\"1\" class=\"dataframe\">\n",
       "  <thead>\n",
       "    <tr style=\"text-align: right;\">\n",
       "      <th></th>\n",
       "      <th>bite</th>\n",
       "    </tr>\n",
       "    <tr>\n",
       "      <th>dateofbite</th>\n",
       "      <th></th>\n",
       "    </tr>\n",
       "  </thead>\n",
       "  <tbody>\n",
       "    <tr>\n",
       "      <th>2019-01-01</th>\n",
       "      <td>6</td>\n",
       "    </tr>\n",
       "    <tr>\n",
       "      <th>2019-01-02</th>\n",
       "      <td>3</td>\n",
       "    </tr>\n",
       "    <tr>\n",
       "      <th>2019-01-03</th>\n",
       "      <td>7</td>\n",
       "    </tr>\n",
       "    <tr>\n",
       "      <th>2019-01-04</th>\n",
       "      <td>4</td>\n",
       "    </tr>\n",
       "    <tr>\n",
       "      <th>2019-01-05</th>\n",
       "      <td>5</td>\n",
       "    </tr>\n",
       "  </tbody>\n",
       "</table>\n",
       "</div>"
      ],
      "text/plain": [
       "            bite\n",
       "dateofbite      \n",
       "2019-01-01     6\n",
       "2019-01-02     3\n",
       "2019-01-03     7\n",
       "2019-01-04     4\n",
       "2019-01-05     5"
      ]
     },
     "execution_count": 24,
     "metadata": {},
     "output_type": "execute_result"
    }
   ],
   "source": [
    "validate.head()"
   ]
  },
  {
   "cell_type": "markdown",
   "id": "0b0451a0-c115-4d81-893d-6237e02b6386",
   "metadata": {},
   "source": [
    "**Add to evaluation dataframe**"
   ]
  },
  {
   "cell_type": "code",
   "execution_count": 25,
   "id": "828d79b1-eedb-4790-83f9-2b3d2bff1d0d",
   "metadata": {},
   "outputs": [
    {
     "name": "stdout",
     "output_type": "stream",
     "text": [
      "bite -- rmse: 5.16\n"
     ]
    },
    {
     "data": {
      "text/html": [
       "<div>\n",
       "<style scoped>\n",
       "    .dataframe tbody tr th:only-of-type {\n",
       "        vertical-align: middle;\n",
       "    }\n",
       "\n",
       "    .dataframe tbody tr th {\n",
       "        vertical-align: top;\n",
       "    }\n",
       "\n",
       "    .dataframe thead th {\n",
       "        text-align: right;\n",
       "    }\n",
       "</style>\n",
       "<table border=\"1\" class=\"dataframe\">\n",
       "  <thead>\n",
       "    <tr style=\"text-align: right;\">\n",
       "      <th></th>\n",
       "      <th>model</th>\n",
       "      <th>target</th>\n",
       "      <th>rmse</th>\n",
       "    </tr>\n",
       "  </thead>\n",
       "  <tbody>\n",
       "    <tr>\n",
       "      <th>0</th>\n",
       "      <td>holts_optimized</td>\n",
       "      <td>bite</td>\n",
       "      <td>4.117</td>\n",
       "    </tr>\n",
       "    <tr>\n",
       "      <th>0</th>\n",
       "      <td>holts_seasonal_trend</td>\n",
       "      <td>bite</td>\n",
       "      <td>3.986</td>\n",
       "    </tr>\n",
       "    <tr>\n",
       "      <th>0</th>\n",
       "      <td>previous year</td>\n",
       "      <td>bite</td>\n",
       "      <td>5.159</td>\n",
       "    </tr>\n",
       "  </tbody>\n",
       "</table>\n",
       "</div>"
      ],
      "text/plain": [
       "                  model target   rmse\n",
       "0       holts_optimized   bite  4.117\n",
       "0  holts_seasonal_trend   bite  3.986\n",
       "0         previous year   bite  5.159"
      ]
     },
     "execution_count": 25,
     "metadata": {},
     "output_type": "execute_result"
    },
    {
     "data": {
      "image/png": "[encoded data removed]",
      "text/plain": [
       "<Figure size 800x300 with 1 Axes>"
      ]
     },
     "metadata": {},
     "output_type": "display_data"
    }
   ],
   "source": [
    "# add results to the evaluation dataframe\n",
    "plot_evaluate(target= \"bite\")\n",
    "eval_df = append_to_eval(model = 'previous year', target = \"bite\")\n",
    "eval_df.tail(3)"
   ]
  },
  {
   "cell_type": "markdown",
   "id": "06aad271-f97f-4bc6-ac1b-2d5c2aa2f550",
   "metadata": {},
   "source": [
    "## Best model"
   ]
  },
  {
   "cell_type": "code",
   "execution_count": 26,
   "id": "8a00804a-0968-4046-8a20-003f2689e1fd",
   "metadata": {},
   "outputs": [],
   "source": [
    "# reset the index\n",
    "eval_df = eval_df.reset_index(drop=True)"
   ]
  },
  {
   "cell_type": "code",
   "execution_count": 27,
   "id": "dff5c309-736c-413e-ba3d-ff1ca7bbf6f8",
   "metadata": {},
   "outputs": [
    {
     "data": {
      "text/html": [
       "<div>\n",
       "<style scoped>\n",
       "    .dataframe tbody tr th:only-of-type {\n",
       "        vertical-align: middle;\n",
       "    }\n",
       "\n",
       "    .dataframe tbody tr th {\n",
       "        vertical-align: top;\n",
       "    }\n",
       "\n",
       "    .dataframe thead th {\n",
       "        text-align: right;\n",
       "    }\n",
       "</style>\n",
       "<table border=\"1\" class=\"dataframe\">\n",
       "  <thead>\n",
       "    <tr style=\"text-align: right;\">\n",
       "      <th></th>\n",
       "      <th>model</th>\n",
       "      <th>target</th>\n",
       "      <th>rmse</th>\n",
       "    </tr>\n",
       "  </thead>\n",
       "  <tbody>\n",
       "    <tr>\n",
       "      <th>135</th>\n",
       "      <td>136_day_moving_avg</td>\n",
       "      <td>bite</td>\n",
       "      <td>3.752</td>\n",
       "    </tr>\n",
       "    <tr>\n",
       "      <th>136</th>\n",
       "      <td>137_day_moving_avg</td>\n",
       "      <td>bite</td>\n",
       "      <td>3.753</td>\n",
       "    </tr>\n",
       "    <tr>\n",
       "      <th>134</th>\n",
       "      <td>135_day_moving_avg</td>\n",
       "      <td>bite</td>\n",
       "      <td>3.753</td>\n",
       "    </tr>\n",
       "    <tr>\n",
       "      <th>141</th>\n",
       "      <td>142_day_moving_avg</td>\n",
       "      <td>bite</td>\n",
       "      <td>3.753</td>\n",
       "    </tr>\n",
       "    <tr>\n",
       "      <th>137</th>\n",
       "      <td>138_day_moving_avg</td>\n",
       "      <td>bite</td>\n",
       "      <td>3.754</td>\n",
       "    </tr>\n",
       "  </tbody>\n",
       "</table>\n",
       "</div>"
      ],
      "text/plain": [
       "                  model target   rmse\n",
       "135  136_day_moving_avg   bite  3.752\n",
       "136  137_day_moving_avg   bite  3.753\n",
       "134  135_day_moving_avg   bite  3.753\n",
       "141  142_day_moving_avg   bite  3.753\n",
       "137  138_day_moving_avg   bite  3.754"
      ]
     },
     "execution_count": 27,
     "metadata": {},
     "output_type": "execute_result"
    }
   ],
   "source": [
    "# find best model\n",
    "eval_df = eval_df.sort_values(by='rmse').head(5)\n",
    "eval_df.head()"
   ]
  },
  {
   "cell_type": "code",
   "execution_count": 28,
   "id": "01526eee-9f9c-4c55-9417-316cb4b9c424",
   "metadata": {},
   "outputs": [
    {
     "data": {
      "image/png": "[encoded data removed]",
      "text/plain": [
       "<Figure size 1200x600 with 1 Axes>"
      ]
     },
     "metadata": {},
     "output_type": "display_data"
    }
   ],
   "source": [
    "\n",
    "plt.figure(figsize=(12, 6))\n",
    "sns.barplot(data= eval_df, x=\"model\", y=\"rmse\")\n",
    "plt.title(\"Bite models rmse\")\n",
    "plt.ylabel('RMSE')\n",
    "plt.xticks(rotation=0)\n",
    "plt.show()"
   ]
  },
  {
   "cell_type": "markdown",
   "id": "f4567166-7c95-4277-afde-8efef5503d50",
   "metadata": {},
   "source": [
    "## Test"
   ]
  },
  {
   "cell_type": "code",
   "execution_count": null,
   "id": "18ed845b-ab37-49b1-92f3-b143e641eb6a",
   "metadata": {},
   "outputs": [],
   "source": []
  }
 ],
 "metadata": {
  "kernelspec": {
   "display_name": "Python 3 (ipykernel)",
   "language": "python",
   "name": "python3"
  },
  "language_info": {
   "codemirror_mode": {
    "name": "ipython",
    "version": 3
   },
   "file_extension": ".py",
   "mimetype": "text/x-python",
   "name": "python",
   "nbconvert_exporter": "python",
   "pygments_lexer": "ipython3",
   "version": "3.10.9"
  }
 },
 "nbformat": 4,
 "nbformat_minor": 5
}
