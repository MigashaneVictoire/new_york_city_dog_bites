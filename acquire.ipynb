{
 "cells": [
  {
   "cell_type": "markdown",
   "id": "d57df272",
   "metadata": {},
   "source": [
    "# Accquire\n",
    "\n",
    "**imports**"
   ]
  },
  {
   "cell_type": "code",
   "execution_count": 1,
   "id": "22b77d3e",
   "metadata": {},
   "outputs": [],
   "source": [
    "import pandas as pd\n",
    "\n",
    "# system manipulation\n",
    "import sys\n",
    "sys.path.append(\"./util_\")\n",
    "import acquire_\n",
    "# import prepare_\n",
    "\n",
    "# other\n",
    "import warnings\n",
    "warnings.filterwarnings(\"ignore\")"
   ]
  },
  {
   "cell_type": "markdown",
   "id": "609e3161",
   "metadata": {},
   "source": [
    "## Get data\n",
    "\n",
    "Data from [catalog.data.gov](https://catalog.data.gov/dataset/dohmh-dog-bite-data)\n",
    "\n",
    "|Column Name|Description|\n",
    "|----|----|\n",
    "|**UniqueID**|Unique dog bite case identifier|\n",
    "|**DateOfBite**|Date bitten|\n",
    "|**Species**|Animal Type (Dog)|\n",
    "|**Breed**|Breed type|\n",
    "|**Age**|Dog's age at time of bite. Numbers with 'M' indicate months.|\n",
    "|**Gender**|Sex of Dog. M=Male, F=Female, U=Unknown|\n",
    "|**SpayNeuter**|Surgical removal of dog's reproductive organs. True (reported to DOHMH as Spayed or Neutered), False (Unknown or Not Spayed or Neutered)|\n",
    "|**Borough**|Dog bite Borough. Other' indicates that the bite took place outside New York City|\n",
    "|**ZipCode**|Dog bite Zipcode. Blank ZipCode indicates that information was not available|"
   ]
  },
  {
   "cell_type": "code",
   "execution_count": 2,
   "id": "96360d68",
   "metadata": {
    "scrolled": true
   },
   "outputs": [
    {
     "data": {
      "text/html": [
       "<div>\n",
       "<style scoped>\n",
       "    .dataframe tbody tr th:only-of-type {\n",
       "        vertical-align: middle;\n",
       "    }\n",
       "\n",
       "    .dataframe tbody tr th {\n",
       "        vertical-align: top;\n",
       "    }\n",
       "\n",
       "    .dataframe thead th {\n",
       "        text-align: right;\n",
       "    }\n",
       "</style>\n",
       "<table border=\"1\" class=\"dataframe\">\n",
       "  <thead>\n",
       "    <tr style=\"text-align: right;\">\n",
       "      <th></th>\n",
       "      <th>DateOfBite</th>\n",
       "      <th>Species</th>\n",
       "      <th>Breed</th>\n",
       "      <th>Age</th>\n",
       "      <th>Gender</th>\n",
       "      <th>SpayNeuter</th>\n",
       "      <th>Borough</th>\n",
       "      <th>ZipCode</th>\n",
       "    </tr>\n",
       "    <tr>\n",
       "      <th>UniqueID</th>\n",
       "      <th></th>\n",
       "      <th></th>\n",
       "      <th></th>\n",
       "      <th></th>\n",
       "      <th></th>\n",
       "      <th></th>\n",
       "      <th></th>\n",
       "      <th></th>\n",
       "    </tr>\n",
       "  </thead>\n",
       "  <tbody>\n",
       "    <tr>\n",
       "      <th>1</th>\n",
       "      <td>January 01 2018</td>\n",
       "      <td>DOG</td>\n",
       "      <td>UNKNOWN</td>\n",
       "      <td>NaN</td>\n",
       "      <td>U</td>\n",
       "      <td>False</td>\n",
       "      <td>Brooklyn</td>\n",
       "      <td>11220</td>\n",
       "    </tr>\n",
       "    <tr>\n",
       "      <th>2</th>\n",
       "      <td>January 04 2018</td>\n",
       "      <td>DOG</td>\n",
       "      <td>UNKNOWN</td>\n",
       "      <td>NaN</td>\n",
       "      <td>U</td>\n",
       "      <td>False</td>\n",
       "      <td>Brooklyn</td>\n",
       "      <td>NaN</td>\n",
       "    </tr>\n",
       "    <tr>\n",
       "      <th>3</th>\n",
       "      <td>January 06 2018</td>\n",
       "      <td>DOG</td>\n",
       "      <td>Pit Bull</td>\n",
       "      <td>NaN</td>\n",
       "      <td>U</td>\n",
       "      <td>False</td>\n",
       "      <td>Brooklyn</td>\n",
       "      <td>11224</td>\n",
       "    </tr>\n",
       "    <tr>\n",
       "      <th>4</th>\n",
       "      <td>January 08 2018</td>\n",
       "      <td>DOG</td>\n",
       "      <td>Mixed/Other</td>\n",
       "      <td>4</td>\n",
       "      <td>M</td>\n",
       "      <td>False</td>\n",
       "      <td>Brooklyn</td>\n",
       "      <td>11231</td>\n",
       "    </tr>\n",
       "    <tr>\n",
       "      <th>5</th>\n",
       "      <td>January 09 2018</td>\n",
       "      <td>DOG</td>\n",
       "      <td>Pit Bull</td>\n",
       "      <td>NaN</td>\n",
       "      <td>U</td>\n",
       "      <td>False</td>\n",
       "      <td>Brooklyn</td>\n",
       "      <td>11224</td>\n",
       "    </tr>\n",
       "  </tbody>\n",
       "</table>\n",
       "</div>"
      ],
      "text/plain": [
       "               DateOfBite Species        Breed  Age Gender  SpayNeuter  \\\n",
       "UniqueID                                                                 \n",
       "1         January 01 2018     DOG      UNKNOWN  NaN      U       False   \n",
       "2         January 04 2018     DOG      UNKNOWN  NaN      U       False   \n",
       "3         January 06 2018     DOG     Pit Bull  NaN      U       False   \n",
       "4         January 08 2018     DOG  Mixed/Other    4      M       False   \n",
       "5         January 09 2018     DOG     Pit Bull  NaN      U       False   \n",
       "\n",
       "           Borough ZipCode  \n",
       "UniqueID                    \n",
       "1         Brooklyn   11220  \n",
       "2         Brooklyn     NaN  \n",
       "3         Brooklyn   11224  \n",
       "4         Brooklyn   11231  \n",
       "5         Brooklyn   11224  "
      ]
     },
     "execution_count": 2,
     "metadata": {},
     "output_type": "execute_result"
    }
   ],
   "source": [
    "# get data\n",
    "dogs = pd.read_csv(\"https://data.cityofnewyork.us/api/views/rsgh-akpg/rows.csv\", index_col=0)\n",
    "\n",
    "# look at my data\n",
    "dogs.head()"
   ]
  },
  {
   "cell_type": "markdown",
   "id": "fc0bb75f",
   "metadata": {},
   "source": [
    "## Understand the data"
   ]
  },
  {
   "cell_type": "code",
   "execution_count": 4,
   "id": "ebe46f6d",
   "metadata": {
    "scrolled": true
   },
   "outputs": [
    {
     "data": {
      "text/plain": [
       "(22663, 8)"
      ]
     },
     "execution_count": 4,
     "metadata": {},
     "output_type": "execute_result"
    }
   ],
   "source": [
    "dogs.shape"
   ]
  },
  {
   "cell_type": "code",
   "execution_count": 5,
   "id": "f26a4ad1",
   "metadata": {},
   "outputs": [
    {
     "data": {
      "text/plain": [
       "Index(['DateOfBite', 'Species', 'Breed', 'Age', 'Gender', 'SpayNeuter',\n",
       "       'Borough', 'ZipCode'],\n",
       "      dtype='object')"
      ]
     },
     "execution_count": 5,
     "metadata": {},
     "output_type": "execute_result"
    }
   ],
   "source": [
    "dogs.columns"
   ]
  },
  {
   "cell_type": "code",
   "execution_count": 6,
   "id": "51a03a98",
   "metadata": {},
   "outputs": [
    {
     "name": "stdout",
     "output_type": "stream",
     "text": [
      "<class 'pandas.core.frame.DataFrame'>\n",
      "Int64Index: 22663 entries, 1 to 10280\n",
      "Data columns (total 8 columns):\n",
      " #   Column      Non-Null Count  Dtype \n",
      "---  ------      --------------  ----- \n",
      " 0   DateOfBite  22663 non-null  object\n",
      " 1   Species     22663 non-null  object\n",
      " 2   Breed       20445 non-null  object\n",
      " 3   Age         11442 non-null  object\n",
      " 4   Gender      22663 non-null  object\n",
      " 5   SpayNeuter  22663 non-null  bool  \n",
      " 6   Borough     22663 non-null  object\n",
      " 7   ZipCode     16805 non-null  object\n",
      "dtypes: bool(1), object(7)\n",
      "memory usage: 1.4+ MB\n"
     ]
    }
   ],
   "source": [
    "dogs.info()"
   ]
  },
  {
   "cell_type": "code",
   "execution_count": 7,
   "id": "394b8a27",
   "metadata": {},
   "outputs": [
    {
     "name": "stdout",
     "output_type": "stream",
     "text": [
      "Numeric col count: 0\n",
      "object col count: 7\n"
     ]
    }
   ],
   "source": [
    "# count of numeric columns and object columns\n",
    "numerics = len(dogs.select_dtypes(\"number\").columns)\n",
    "objects = len(dogs.select_dtypes(\"object\").columns)\n",
    "\n",
    "print(\"Numeric col count:\", numerics)\n",
    "print(\"object col count:\", objects)"
   ]
  },
  {
   "cell_type": "code",
   "execution_count": 8,
   "id": "371f6727",
   "metadata": {},
   "outputs": [
    {
     "data": {
      "text/html": [
       "<div>\n",
       "<style scoped>\n",
       "    .dataframe tbody tr th:only-of-type {\n",
       "        vertical-align: middle;\n",
       "    }\n",
       "\n",
       "    .dataframe tbody tr th {\n",
       "        vertical-align: top;\n",
       "    }\n",
       "\n",
       "    .dataframe thead th {\n",
       "        text-align: right;\n",
       "    }\n",
       "</style>\n",
       "<table border=\"1\" class=\"dataframe\">\n",
       "  <thead>\n",
       "    <tr style=\"text-align: right;\">\n",
       "      <th></th>\n",
       "      <th>DateOfBite</th>\n",
       "      <th>Species</th>\n",
       "      <th>Breed</th>\n",
       "      <th>Age</th>\n",
       "      <th>Gender</th>\n",
       "      <th>SpayNeuter</th>\n",
       "      <th>Borough</th>\n",
       "      <th>ZipCode</th>\n",
       "    </tr>\n",
       "  </thead>\n",
       "  <tbody>\n",
       "    <tr>\n",
       "      <th>count</th>\n",
       "      <td>22663</td>\n",
       "      <td>22663</td>\n",
       "      <td>20445</td>\n",
       "      <td>11442</td>\n",
       "      <td>22663</td>\n",
       "      <td>22663</td>\n",
       "      <td>22663</td>\n",
       "      <td>16805</td>\n",
       "    </tr>\n",
       "    <tr>\n",
       "      <th>unique</th>\n",
       "      <td>2555</td>\n",
       "      <td>1</td>\n",
       "      <td>1651</td>\n",
       "      <td>228</td>\n",
       "      <td>3</td>\n",
       "      <td>2</td>\n",
       "      <td>6</td>\n",
       "      <td>519</td>\n",
       "    </tr>\n",
       "    <tr>\n",
       "      <th>top</th>\n",
       "      <td>September 16 2017</td>\n",
       "      <td>DOG</td>\n",
       "      <td>Pit Bull</td>\n",
       "      <td>2</td>\n",
       "      <td>U</td>\n",
       "      <td>False</td>\n",
       "      <td>Queens</td>\n",
       "      <td>10029</td>\n",
       "    </tr>\n",
       "    <tr>\n",
       "      <th>freq</th>\n",
       "      <td>25</td>\n",
       "      <td>22663</td>\n",
       "      <td>4004</td>\n",
       "      <td>1624</td>\n",
       "      <td>10535</td>\n",
       "      <td>16787</td>\n",
       "      <td>5773</td>\n",
       "      <td>369</td>\n",
       "    </tr>\n",
       "  </tbody>\n",
       "</table>\n",
       "</div>"
      ],
      "text/plain": [
       "               DateOfBite Species     Breed    Age Gender SpayNeuter Borough  \\\n",
       "count               22663   22663     20445  11442  22663      22663   22663   \n",
       "unique               2555       1      1651    228      3          2       6   \n",
       "top     September 16 2017     DOG  Pit Bull      2      U      False  Queens   \n",
       "freq                   25   22663      4004   1624  10535      16787    5773   \n",
       "\n",
       "       ZipCode  \n",
       "count    16805  \n",
       "unique     519  \n",
       "top      10029  \n",
       "freq       369  "
      ]
     },
     "execution_count": 8,
     "metadata": {},
     "output_type": "execute_result"
    }
   ],
   "source": [
    "dogs.describe()"
   ]
  },
  {
   "cell_type": "markdown",
   "id": "2f2d8c54",
   "metadata": {},
   "source": [
    "**Take aways:**\n",
    "\n",
    "- I have 22663 rows and 9 columns\n",
    "- 8 columns are objects and 1 1 boolean\n",
    "- 0 null count\n",
    "- I also have descriptive statistics of my data"
   ]
  }
 ],
 "metadata": {
  "kernelspec": {
   "display_name": "Python 3 (ipykernel)",
   "language": "python",
   "name": "python3"
  },
  "language_info": {
   "codemirror_mode": {
    "name": "ipython",
    "version": 3
   },
   "file_extension": ".py",
   "mimetype": "text/x-python",
   "name": "python",
   "nbconvert_exporter": "python",
   "pygments_lexer": "ipython3",
   "version": "3.10.9"
  }
 },
 "nbformat": 4,
 "nbformat_minor": 5
}
