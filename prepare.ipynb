{
 "cells": [
  {
   "cell_type": "markdown",
   "id": "65207d37",
   "metadata": {},
   "source": [
    "# Prepare\n",
    "\n",
    "For preparations I will follow a fast aproach and I will remove all columns that are not helpfull.\n",
    "\n",
    "**import**"
   ]
  },
  {
   "cell_type": "code",
   "execution_count": 1,
   "id": "d979536a",
   "metadata": {},
   "outputs": [],
   "source": [
    "# data manipulation\n",
    "import pandas as pd\n",
    "import numpy as np\n",
    "from datetime import datetime\n",
    "\n",
    "# data visualization\n",
    "import matplotlib.pyplot as plt\n",
    "import seaborn as sns\n",
    "\n",
    "# spliting the data\n",
    "from sklearn.model_selection import TimeSeriesSplit\n",
    "from math import ceil\n",
    "\n",
    "# system manipulation\n",
    "import sys\n",
    "sys.path.append(\"./util_\")\n",
    "import prepare_\n",
    "import acquire_\n",
    "\n",
    "\n",
    "# other\n",
    "import warnings\n",
    "warnings.filterwarnings(\"ignore\")\n",
    "\n",
    "# set a default them for all my visuals\n",
    "sns.set_theme(style=\"whitegrid\")"
   ]
  },
  {
   "cell_type": "markdown",
   "id": "9f22aec7",
   "metadata": {},
   "source": [
    "### get data"
   ]
  },
  {
   "cell_type": "code",
   "execution_count": 2,
   "id": "11fe43ef",
   "metadata": {},
   "outputs": [
    {
     "data": {
      "text/html": [
       "<div>\n",
       "<style scoped>\n",
       "    .dataframe tbody tr th:only-of-type {\n",
       "        vertical-align: middle;\n",
       "    }\n",
       "\n",
       "    .dataframe tbody tr th {\n",
       "        vertical-align: top;\n",
       "    }\n",
       "\n",
       "    .dataframe thead th {\n",
       "        text-align: right;\n",
       "    }\n",
       "</style>\n",
       "<table border=\"1\" class=\"dataframe\">\n",
       "  <thead>\n",
       "    <tr style=\"text-align: right;\">\n",
       "      <th></th>\n",
       "      <th>DateOfBite</th>\n",
       "      <th>Species</th>\n",
       "      <th>Breed</th>\n",
       "      <th>Age</th>\n",
       "      <th>Gender</th>\n",
       "      <th>SpayNeuter</th>\n",
       "      <th>Borough</th>\n",
       "      <th>ZipCode</th>\n",
       "    </tr>\n",
       "    <tr>\n",
       "      <th>UniqueID</th>\n",
       "      <th></th>\n",
       "      <th></th>\n",
       "      <th></th>\n",
       "      <th></th>\n",
       "      <th></th>\n",
       "      <th></th>\n",
       "      <th></th>\n",
       "      <th></th>\n",
       "    </tr>\n",
       "  </thead>\n",
       "  <tbody>\n",
       "    <tr>\n",
       "      <th>1</th>\n",
       "      <td>January 01 2018</td>\n",
       "      <td>DOG</td>\n",
       "      <td>UNKNOWN</td>\n",
       "      <td>NaN</td>\n",
       "      <td>U</td>\n",
       "      <td>False</td>\n",
       "      <td>Brooklyn</td>\n",
       "      <td>11220</td>\n",
       "    </tr>\n",
       "    <tr>\n",
       "      <th>2</th>\n",
       "      <td>January 04 2018</td>\n",
       "      <td>DOG</td>\n",
       "      <td>UNKNOWN</td>\n",
       "      <td>NaN</td>\n",
       "      <td>U</td>\n",
       "      <td>False</td>\n",
       "      <td>Brooklyn</td>\n",
       "      <td>NaN</td>\n",
       "    </tr>\n",
       "    <tr>\n",
       "      <th>3</th>\n",
       "      <td>January 06 2018</td>\n",
       "      <td>DOG</td>\n",
       "      <td>Pit Bull</td>\n",
       "      <td>NaN</td>\n",
       "      <td>U</td>\n",
       "      <td>False</td>\n",
       "      <td>Brooklyn</td>\n",
       "      <td>11224</td>\n",
       "    </tr>\n",
       "    <tr>\n",
       "      <th>4</th>\n",
       "      <td>January 08 2018</td>\n",
       "      <td>DOG</td>\n",
       "      <td>Mixed/Other</td>\n",
       "      <td>4</td>\n",
       "      <td>M</td>\n",
       "      <td>False</td>\n",
       "      <td>Brooklyn</td>\n",
       "      <td>11231</td>\n",
       "    </tr>\n",
       "    <tr>\n",
       "      <th>5</th>\n",
       "      <td>January 09 2018</td>\n",
       "      <td>DOG</td>\n",
       "      <td>Pit Bull</td>\n",
       "      <td>NaN</td>\n",
       "      <td>U</td>\n",
       "      <td>False</td>\n",
       "      <td>Brooklyn</td>\n",
       "      <td>11224</td>\n",
       "    </tr>\n",
       "  </tbody>\n",
       "</table>\n",
       "</div>"
      ],
      "text/plain": [
       "               DateOfBite Species        Breed  Age Gender  SpayNeuter  \\\n",
       "UniqueID                                                                 \n",
       "1         January 01 2018     DOG      UNKNOWN  NaN      U       False   \n",
       "2         January 04 2018     DOG      UNKNOWN  NaN      U       False   \n",
       "3         January 06 2018     DOG     Pit Bull  NaN      U       False   \n",
       "4         January 08 2018     DOG  Mixed/Other    4      M       False   \n",
       "5         January 09 2018     DOG     Pit Bull  NaN      U       False   \n",
       "\n",
       "           Borough ZipCode  \n",
       "UniqueID                    \n",
       "1         Brooklyn   11220  \n",
       "2         Brooklyn     NaN  \n",
       "3         Brooklyn   11224  \n",
       "4         Brooklyn   11231  \n",
       "5         Brooklyn   11224  "
      ]
     },
     "execution_count": 2,
     "metadata": {},
     "output_type": "execute_result"
    }
   ],
   "source": [
    "# get data from acquire file\n",
    "dogs = acquire_.get_org_data()\n",
    "dogs.head()"
   ]
  },
  {
   "cell_type": "markdown",
   "id": "52debaa9-6eff-4955-b582-f39c35f15315",
   "metadata": {},
   "source": [
    "**Rename columns**"
   ]
  },
  {
   "cell_type": "code",
   "execution_count": 3,
   "id": "9c8359f9-dfbe-46fb-84e6-95b14626ee30",
   "metadata": {},
   "outputs": [
    {
     "data": {
      "text/html": [
       "<div>\n",
       "<style scoped>\n",
       "    .dataframe tbody tr th:only-of-type {\n",
       "        vertical-align: middle;\n",
       "    }\n",
       "\n",
       "    .dataframe tbody tr th {\n",
       "        vertical-align: top;\n",
       "    }\n",
       "\n",
       "    .dataframe thead th {\n",
       "        text-align: right;\n",
       "    }\n",
       "</style>\n",
       "<table border=\"1\" class=\"dataframe\">\n",
       "  <thead>\n",
       "    <tr style=\"text-align: right;\">\n",
       "      <th></th>\n",
       "      <th>dateofbite</th>\n",
       "      <th>species</th>\n",
       "      <th>breed</th>\n",
       "      <th>age</th>\n",
       "      <th>gender</th>\n",
       "      <th>spayneuter</th>\n",
       "      <th>borough</th>\n",
       "      <th>zipcode</th>\n",
       "    </tr>\n",
       "    <tr>\n",
       "      <th>UniqueID</th>\n",
       "      <th></th>\n",
       "      <th></th>\n",
       "      <th></th>\n",
       "      <th></th>\n",
       "      <th></th>\n",
       "      <th></th>\n",
       "      <th></th>\n",
       "      <th></th>\n",
       "    </tr>\n",
       "  </thead>\n",
       "  <tbody>\n",
       "    <tr>\n",
       "      <th>1</th>\n",
       "      <td>January 01 2018</td>\n",
       "      <td>DOG</td>\n",
       "      <td>UNKNOWN</td>\n",
       "      <td>NaN</td>\n",
       "      <td>U</td>\n",
       "      <td>False</td>\n",
       "      <td>Brooklyn</td>\n",
       "      <td>11220</td>\n",
       "    </tr>\n",
       "  </tbody>\n",
       "</table>\n",
       "</div>"
      ],
      "text/plain": [
       "               dateofbite species    breed  age gender  spayneuter   borough  \\\n",
       "UniqueID                                                                       \n",
       "1         January 01 2018     DOG  UNKNOWN  NaN      U       False  Brooklyn   \n",
       "\n",
       "         zipcode  \n",
       "UniqueID          \n",
       "1          11220  "
      ]
     },
     "execution_count": 3,
     "metadata": {},
     "output_type": "execute_result"
    }
   ],
   "source": [
    "# make the columsn lower case\n",
    "# replace spaces\n",
    "dogs.columns = dogs.columns.str.lower().str.strip().str.replace(\"†\",\"\").str.replace(\" \",\"_\")\n",
    "dogs.head(1)"
   ]
  },
  {
   "cell_type": "markdown",
   "id": "bf158d38-a2d7-411e-a5d1-6daa0b8342e4",
   "metadata": {},
   "source": [
    "**Convert data types**"
   ]
  },
  {
   "cell_type": "code",
   "execution_count": 4,
   "id": "783d93ce-a63b-485b-a22f-432a7075bf1e",
   "metadata": {},
   "outputs": [
    {
     "data": {
      "text/plain": [
       "dateofbite    object\n",
       "species       object\n",
       "breed         object\n",
       "age           object\n",
       "gender        object\n",
       "spayneuter      bool\n",
       "borough       object\n",
       "zipcode       object\n",
       "dtype: object"
      ]
     },
     "execution_count": 4,
     "metadata": {},
     "output_type": "execute_result"
    }
   ],
   "source": [
    "# view datatypes\n",
    "dogs.dtypes"
   ]
  },
  {
   "cell_type": "code",
   "execution_count": 5,
   "id": "632e1485-e162-4c0e-bc9e-135bd1fbce5b",
   "metadata": {},
   "outputs": [
    {
     "name": "stdout",
     "output_type": "stream",
     "text": [
      "____________________ DATEOFBITE\n",
      "7     299\n",
      "9     276\n",
      "6     267\n",
      "8     228\n",
      "10    219\n",
      "5     208\n",
      "11    192\n",
      "12    164\n",
      "4     127\n",
      "13    124\n",
      "14     97\n",
      "3      93\n",
      "15     65\n",
      "16     52\n",
      "17     38\n",
      "2      37\n",
      "1      16\n",
      "19     15\n",
      "18     14\n",
      "20     11\n",
      "21      4\n",
      "22      4\n",
      "24      2\n",
      "25      2\n",
      "23      1\n",
      "Name: dateofbite, dtype: int64\n",
      "____________________ SPECIES\n",
      "22663    1\n",
      "Name: species, dtype: int64\n",
      "____________________ BREED\n",
      "1      1186\n",
      "2       162\n",
      "3        54\n",
      "4        39\n",
      "5        24\n",
      "       ... \n",
      "95        1\n",
      "106       1\n",
      "123       1\n",
      "127       1\n",
      "53        1\n",
      "Name: breed, Length: 89, dtype: int64\n",
      "____________________ AGE\n",
      "1       122\n",
      "2        31\n",
      "3         8\n",
      "4         7\n",
      "6         6\n",
      "9         6\n",
      "5         4\n",
      "20        3\n",
      "10        2\n",
      "13        2\n",
      "11        2\n",
      "7         2\n",
      "50        2\n",
      "45        1\n",
      "8         1\n",
      "14        1\n",
      "17        1\n",
      "22        1\n",
      "26        1\n",
      "27        1\n",
      "33        1\n",
      "34        1\n",
      "1624      1\n",
      "1504      1\n",
      "242       1\n",
      "1365      1\n",
      "1178      1\n",
      "1040      1\n",
      "795       1\n",
      "655       1\n",
      "569       1\n",
      "375       1\n",
      "361       1\n",
      "188       1\n",
      "51        1\n",
      "140       1\n",
      "83        1\n",
      "80        1\n",
      "75        1\n",
      "70        1\n",
      "66        1\n",
      "65        1\n",
      "55        1\n",
      "47        1\n",
      "Name: age, dtype: int64\n",
      "____________________ GENDER\n",
      "10535    1\n",
      "8739     1\n",
      "3389     1\n",
      "Name: gender, dtype: int64\n",
      "____________________ SPAYNEUTER\n",
      "16787    1\n",
      "5876     1\n",
      "Name: spayneuter, dtype: int64\n",
      "____________________ BOROUGH\n",
      "5773    1\n",
      "5270    1\n",
      "4985    1\n",
      "3782    1\n",
      "1872    1\n",
      "981     1\n",
      "Name: borough, dtype: int64\n",
      "____________________ ZIPCODE\n",
      "1      271\n",
      "2       44\n",
      "3       11\n",
      "4        5\n",
      "50       4\n",
      "      ... \n",
      "68       1\n",
      "69       1\n",
      "70       1\n",
      "72       1\n",
      "369      1\n",
      "Name: zipcode, Length: 121, dtype: int64\n"
     ]
    }
   ],
   "source": [
    "# count the unique value counts in each column\n",
    "for i in dogs.columns:\n",
    "    print(\"_\" * 20, i.upper())\n",
    "    print(dogs[i].value_counts().value_counts())"
   ]
  },
  {
   "cell_type": "code",
   "execution_count": 6,
   "id": "814fcb8e",
   "metadata": {},
   "outputs": [],
   "source": [
    "# convert string to datetime\n",
    "dogs.dateofbite = dogs.dateofbite.astype(\"datetime64\")"
   ]
  },
  {
   "cell_type": "markdown",
   "id": "4a309d51-2257-4c78-af8f-162f73342aa5",
   "metadata": {},
   "source": [
    "**Find nulls**"
   ]
  },
  {
   "cell_type": "code",
   "execution_count": 7,
   "id": "98958e99-9ff5-46fb-8294-3a6461d20786",
   "metadata": {},
   "outputs": [
    {
     "data": {
      "text/plain": [
       "dateofbite        0\n",
       "species           0\n",
       "breed          2218\n",
       "age           11221\n",
       "gender            0\n",
       "spayneuter        0\n",
       "borough           0\n",
       "zipcode        5858\n",
       "dtype: int64"
      ]
     },
     "execution_count": 7,
     "metadata": {},
     "output_type": "execute_result"
    }
   ],
   "source": [
    "dogs.isna().sum()"
   ]
  },
  {
   "cell_type": "markdown",
   "id": "ee771bc1-9968-4224-b1ef-c62464820b7c",
   "metadata": {},
   "source": [
    "**Drop duplicate**"
   ]
  },
  {
   "cell_type": "code",
   "execution_count": 8,
   "id": "e3e592e2-f429-4e06-a69c-d7f248344163",
   "metadata": {},
   "outputs": [
    {
     "data": {
      "text/plain": [
       "(541, 0.023871508626395446)"
      ]
     },
     "execution_count": 8,
     "metadata": {},
     "output_type": "execute_result"
    }
   ],
   "source": [
    "dogs.duplicated().sum(), dogs.duplicated().sum()/len(dogs)"
   ]
  },
  {
   "cell_type": "code",
   "execution_count": 9,
   "id": "2479b18a-32a0-42f9-b3d6-bd53dcf2e5e7",
   "metadata": {},
   "outputs": [],
   "source": [
    "# remove duplicated rows\n",
    "dogs = dogs.drop_duplicates()"
   ]
  },
  {
   "cell_type": "markdown",
   "id": "6633679f-99f9-47ea-990e-1ed672ff9398",
   "metadata": {},
   "source": [
    "**Drop columns**"
   ]
  },
  {
   "cell_type": "code",
   "execution_count": 10,
   "id": "ad81875b-9bcf-4ec8-83a0-b3f3ab1bd8be",
   "metadata": {},
   "outputs": [
    {
     "data": {
      "text/plain": [
       "Index(['dateofbite', 'species', 'breed', 'age', 'gender', 'spayneuter',\n",
       "       'borough', 'zipcode'],\n",
       "      dtype='object')"
      ]
     },
     "execution_count": 10,
     "metadata": {},
     "output_type": "execute_result"
    }
   ],
   "source": [
    "dogs.columns"
   ]
  },
  {
   "cell_type": "code",
   "execution_count": 11,
   "id": "ff004df7-e748-41ee-8960-baf0a8768e17",
   "metadata": {},
   "outputs": [
    {
     "data": {
      "text/html": [
       "<div>\n",
       "<style scoped>\n",
       "    .dataframe tbody tr th:only-of-type {\n",
       "        vertical-align: middle;\n",
       "    }\n",
       "\n",
       "    .dataframe tbody tr th {\n",
       "        vertical-align: top;\n",
       "    }\n",
       "\n",
       "    .dataframe thead th {\n",
       "        text-align: right;\n",
       "    }\n",
       "</style>\n",
       "<table border=\"1\" class=\"dataframe\">\n",
       "  <thead>\n",
       "    <tr style=\"text-align: right;\">\n",
       "      <th></th>\n",
       "      <th>dateofbite</th>\n",
       "    </tr>\n",
       "    <tr>\n",
       "      <th>UniqueID</th>\n",
       "      <th></th>\n",
       "    </tr>\n",
       "  </thead>\n",
       "  <tbody>\n",
       "    <tr>\n",
       "      <th>1</th>\n",
       "      <td>2018-01-01</td>\n",
       "    </tr>\n",
       "    <tr>\n",
       "      <th>2</th>\n",
       "      <td>2018-01-04</td>\n",
       "    </tr>\n",
       "    <tr>\n",
       "      <th>3</th>\n",
       "      <td>2018-01-06</td>\n",
       "    </tr>\n",
       "    <tr>\n",
       "      <th>4</th>\n",
       "      <td>2018-01-08</td>\n",
       "    </tr>\n",
       "    <tr>\n",
       "      <th>5</th>\n",
       "      <td>2018-01-09</td>\n",
       "    </tr>\n",
       "  </tbody>\n",
       "</table>\n",
       "</div>"
      ],
      "text/plain": [
       "         dateofbite\n",
       "UniqueID           \n",
       "1        2018-01-01\n",
       "2        2018-01-04\n",
       "3        2018-01-06\n",
       "4        2018-01-08\n",
       "5        2018-01-09"
      ]
     },
     "execution_count": 11,
     "metadata": {},
     "output_type": "execute_result"
    }
   ],
   "source": [
    "# extract date column and remove everything else\n",
    "dogs = dogs[dogs.columns[dogs.columns.isin([\"dateofbite\"])]]\n",
    "dogs.head()"
   ]
  },
  {
   "cell_type": "markdown",
   "id": "69d8cffb-c871-4c6f-b0a9-23e80d92ada9",
   "metadata": {},
   "source": [
    "**Create my target**"
   ]
  },
  {
   "cell_type": "code",
   "execution_count": 12,
   "id": "91a523f8-3df9-498c-b72a-4be77e42f010",
   "metadata": {},
   "outputs": [],
   "source": [
    "# create my target bite column\n",
    "dogs[\"bite\"] = int(1)"
   ]
  },
  {
   "cell_type": "code",
   "execution_count": 13,
   "id": "4fd42475-10cc-4607-a122-9ae0a15afca0",
   "metadata": {},
   "outputs": [
    {
     "data": {
      "text/html": [
       "<div>\n",
       "<style scoped>\n",
       "    .dataframe tbody tr th:only-of-type {\n",
       "        vertical-align: middle;\n",
       "    }\n",
       "\n",
       "    .dataframe tbody tr th {\n",
       "        vertical-align: top;\n",
       "    }\n",
       "\n",
       "    .dataframe thead th {\n",
       "        text-align: right;\n",
       "    }\n",
       "</style>\n",
       "<table border=\"1\" class=\"dataframe\">\n",
       "  <thead>\n",
       "    <tr style=\"text-align: right;\">\n",
       "      <th></th>\n",
       "      <th>bite</th>\n",
       "    </tr>\n",
       "    <tr>\n",
       "      <th>dateofbite</th>\n",
       "      <th></th>\n",
       "    </tr>\n",
       "  </thead>\n",
       "  <tbody>\n",
       "    <tr>\n",
       "      <th>2015-01-01</th>\n",
       "      <td>1</td>\n",
       "    </tr>\n",
       "  </tbody>\n",
       "</table>\n",
       "</div>"
      ],
      "text/plain": [
       "            bite\n",
       "dateofbite      \n",
       "2015-01-01     1"
      ]
     },
     "execution_count": 13,
     "metadata": {},
     "output_type": "execute_result"
    }
   ],
   "source": [
    "# set the date to be the indexinf column\n",
    "dogs = dogs.set_index(\"dateofbite\").sort_index()\n",
    "dogs.head(1)"
   ]
  },
  {
   "cell_type": "markdown",
   "id": "ba2ccbaa-6793-4985-b229-2724ced2bd15",
   "metadata": {},
   "source": [
    "**Frequency of time**"
   ]
  },
  {
   "cell_type": "code",
   "execution_count": 14,
   "id": "d0e68746-175b-4fb1-88bd-6526e16a79a5",
   "metadata": {},
   "outputs": [
    {
     "data": {
      "text/plain": [
       "2015-06-06    25\n",
       "2017-09-16    25\n",
       "2018-06-23    24\n",
       "2018-07-04    23\n",
       "2018-06-02    22\n",
       "              ..\n",
       "2020-05-08     1\n",
       "2020-10-06     1\n",
       "2021-03-02     1\n",
       "2016-03-14     1\n",
       "2021-12-31     1\n",
       "Name: dateofbite, Length: 2555, dtype: int64"
      ]
     },
     "execution_count": 14,
     "metadata": {},
     "output_type": "execute_result"
    }
   ],
   "source": [
    "# occurrences of each date\n",
    "dogs.index.value_counts()"
   ]
  },
  {
   "cell_type": "code",
   "execution_count": 15,
   "id": "bca33230-4a56-4b5d-9358-0bde005ff304",
   "metadata": {},
   "outputs": [
    {
     "data": {
      "text/plain": [
       "6     289\n",
       "7     286\n",
       "9     275\n",
       "8     248\n",
       "10    227\n",
       "5     224\n",
       "11    196\n",
       "12    147\n",
       "13    126\n",
       "4     126\n",
       "3      99\n",
       "14     88\n",
       "15     56\n",
       "16     39\n",
       "2      38\n",
       "17     34\n",
       "1      16\n",
       "19     12\n",
       "18     11\n",
       "20      8\n",
       "21      3\n",
       "22      3\n",
       "25      2\n",
       "24      1\n",
       "23      1\n",
       "Name: dateofbite, dtype: int64"
      ]
     },
     "execution_count": 15,
     "metadata": {},
     "output_type": "execute_result"
    }
   ],
   "source": [
    "# occurrences of each dates occurrence\n",
    "dogs.index.value_counts().value_counts()"
   ]
  },
  {
   "cell_type": "markdown",
   "id": "dd3f87c5-af17-45ea-9aad-13ad333ae706",
   "metadata": {},
   "source": [
    "**Check for gaps in time**"
   ]
  },
  {
   "cell_type": "code",
   "execution_count": 16,
   "id": "a3011f86-9cc4-4fcb-bac9-311b8a04e944",
   "metadata": {},
   "outputs": [
    {
     "data": {
      "text/plain": [
       "Timestamp('2015-01-01 00:00:00')"
      ]
     },
     "execution_count": 16,
     "metadata": {},
     "output_type": "execute_result"
    }
   ],
   "source": [
    "# earliest date\n",
    "min_date = dogs.index.min()\n",
    "min_date"
   ]
  },
  {
   "cell_type": "code",
   "execution_count": 17,
   "id": "32667aa7-68b5-4a3c-982a-b02d75961f03",
   "metadata": {},
   "outputs": [
    {
     "data": {
      "text/plain": [
       "Timestamp('2021-12-31 00:00:00')"
      ]
     },
     "execution_count": 17,
     "metadata": {},
     "output_type": "execute_result"
    }
   ],
   "source": [
    "# latest date\n",
    "max_date = dogs.index.max()\n",
    "max_date"
   ]
  },
  {
   "cell_type": "code",
   "execution_count": 18,
   "id": "3f6292d5-1a44-416a-b5a9-db063458d5cd",
   "metadata": {},
   "outputs": [
    {
     "data": {
      "text/plain": [
       "(22122, 2555)"
      ]
     },
     "execution_count": 18,
     "metadata": {},
     "output_type": "execute_result"
    }
   ],
   "source": [
    "#see how many unique days we actually have\n",
    "dogs.shape[0], dogs.index.nunique()\n",
    "\n",
    "# I see that I ight have missing dates or they are just duplicated dates"
   ]
  },
  {
   "cell_type": "markdown",
   "id": "dc2092fc-f1c9-40e1-a9aa-58aa08899bc9",
   "metadata": {},
   "source": [
    "**Find the missing dates**"
   ]
  },
  {
   "cell_type": "code",
   "execution_count": 19,
   "id": "8c7eca56-e36f-4948-be18-e1e791df06f3",
   "metadata": {},
   "outputs": [
    {
     "data": {
      "text/plain": [
       "DatetimeIndex(['2015-01-31', '2015-02-28', '2015-03-31', '2015-04-30',\n",
       "               '2015-05-31', '2015-06-30', '2015-07-31', '2015-08-31',\n",
       "               '2015-09-30', '2015-10-31', '2015-11-30', '2015-12-31',\n",
       "               '2016-01-31', '2016-02-29', '2016-03-31', '2016-04-30',\n",
       "               '2016-05-31', '2016-06-30', '2016-07-31', '2016-08-31',\n",
       "               '2016-09-30', '2016-10-31', '2016-11-30', '2016-12-31',\n",
       "               '2017-01-31', '2017-02-28', '2017-03-31', '2017-04-30',\n",
       "               '2017-05-31', '2017-06-30', '2017-07-31', '2017-08-31',\n",
       "               '2017-09-30', '2017-10-31', '2017-11-30', '2017-12-31',\n",
       "               '2018-01-31', '2018-02-28', '2018-03-31', '2018-04-30',\n",
       "               '2018-05-31', '2018-06-30', '2018-07-31', '2018-08-31',\n",
       "               '2018-09-30', '2018-10-31', '2018-11-30', '2018-12-31',\n",
       "               '2019-01-31', '2019-02-28', '2019-03-31', '2019-04-30',\n",
       "               '2019-05-31', '2019-06-30', '2019-07-31', '2019-08-31',\n",
       "               '2019-09-30', '2019-10-31', '2019-11-30', '2019-12-31',\n",
       "               '2020-01-31', '2020-02-29', '2020-03-31', '2020-04-30',\n",
       "               '2020-05-31', '2020-06-30', '2020-07-31', '2020-08-31',\n",
       "               '2020-09-30', '2020-10-31', '2020-11-30', '2020-12-31',\n",
       "               '2021-01-31', '2021-02-28', '2021-03-31', '2021-04-30',\n",
       "               '2021-05-31', '2021-06-30', '2021-07-31', '2021-08-31',\n",
       "               '2021-09-30', '2021-10-31', '2021-11-30', '2021-12-31'],\n",
       "              dtype='datetime64[ns]', freq='M')"
      ]
     },
     "execution_count": 19,
     "metadata": {},
     "output_type": "execute_result"
    }
   ],
   "source": [
    "#establish all the expected dates in our range\n",
    "expected_date_range = pd.date_range(min_date, max_date, freq=\"m\")\n",
    "expected_date_range"
   ]
  },
  {
   "cell_type": "code",
   "execution_count": 20,
   "id": "7d9da75d-fb37-4950-a87f-668d14987a91",
   "metadata": {},
   "outputs": [
    {
     "data": {
      "text/plain": [
       "0"
      ]
     },
     "execution_count": 20,
     "metadata": {},
     "output_type": "execute_result"
    }
   ],
   "source": [
    "# now how many dates are missing\n",
    "len(expected_date_range.difference(dogs.index))\n",
    "\n",
    "# I have 0 gap in my dates"
   ]
  },
  {
   "cell_type": "markdown",
   "id": "22f358ce-7ccf-4f36-974e-0081d4414548",
   "metadata": {},
   "source": [
    "**Engineer the target into daily bits counts**"
   ]
  },
  {
   "cell_type": "code",
   "execution_count": 21,
   "id": "ba1cedad-1fa7-4399-9555-ae45736ca2ce",
   "metadata": {},
   "outputs": [],
   "source": [
    "# Engineer the target into daily bits counts\n",
    "dogs = dogs.resample('D').sum()"
   ]
  },
  {
   "cell_type": "code",
   "execution_count": 24,
   "id": "a84ddb83-9ed8-4d9b-9c86-071c09e9f588",
   "metadata": {},
   "outputs": [
    {
     "data": {
      "text/html": [
       "<div>\n",
       "<style scoped>\n",
       "    .dataframe tbody tr th:only-of-type {\n",
       "        vertical-align: middle;\n",
       "    }\n",
       "\n",
       "    .dataframe tbody tr th {\n",
       "        vertical-align: top;\n",
       "    }\n",
       "\n",
       "    .dataframe thead th {\n",
       "        text-align: right;\n",
       "    }\n",
       "</style>\n",
       "<table border=\"1\" class=\"dataframe\">\n",
       "  <thead>\n",
       "    <tr style=\"text-align: right;\">\n",
       "      <th></th>\n",
       "      <th>bite</th>\n",
       "    </tr>\n",
       "    <tr>\n",
       "      <th>dateofbite</th>\n",
       "      <th></th>\n",
       "    </tr>\n",
       "  </thead>\n",
       "  <tbody>\n",
       "    <tr>\n",
       "      <th>2015-01-01</th>\n",
       "      <td>7</td>\n",
       "    </tr>\n",
       "    <tr>\n",
       "      <th>2015-01-02</th>\n",
       "      <td>9</td>\n",
       "    </tr>\n",
       "    <tr>\n",
       "      <th>2015-01-03</th>\n",
       "      <td>7</td>\n",
       "    </tr>\n",
       "  </tbody>\n",
       "</table>\n",
       "</div>"
      ],
      "text/plain": [
       "            bite\n",
       "dateofbite      \n",
       "2015-01-01     7\n",
       "2015-01-02     9\n",
       "2015-01-03     7"
      ]
     },
     "execution_count": 24,
     "metadata": {},
     "output_type": "execute_result"
    }
   ],
   "source": [
    "dogs.head(3)"
   ]
  },
  {
   "cell_type": "markdown",
   "id": "c37987ef-84e9-41be-85f4-4f9125ec6a7a",
   "metadata": {},
   "source": [
    "**Find seasonality in the data**"
   ]
  },
  {
   "cell_type": "code",
   "execution_count": 26,
   "id": "346ac69b-6eef-4c72-ad14-39d2103108f6",
   "metadata": {},
   "outputs": [
    {
     "data": {
      "image/png": "[encoded data removed]",
      "text/plain": [
       "<Figure size 1000x600 with 1 Axes>"
      ]
     },
     "metadata": {},
     "output_type": "display_data"
    }
   ],
   "source": [
    "plt.figure(figsize=(10,6))\n",
    "\n",
    "dogs.resample('D').sum().bite.plot(label='daily')\n",
    "dogs.resample('W').sum().bite.plot(label='weekly')\n",
    "dogs.resample('M').sum().bite.plot(label='D')\n",
    "# dogs.resample('Y').sum().bite.plot(label='yearly')\n",
    "plt.title('days difference over time')\n",
    "plt.legend()\n",
    "\n",
    "# save visual\n",
    "# prepare_.save_visuals_(plt.gcf(), viz_name= \"days_difference_over_time\")\n",
    "plt.show()\n"
   ]
  },
  {
   "cell_type": "markdown",
   "id": "dca44600-1a55-4000-a53a-15439f8a0eb0",
   "metadata": {},
   "source": [
    "**Create a year month and day column**"
   ]
  },
  {
   "cell_type": "code",
   "execution_count": 27,
   "id": "471316a5-d31e-4e63-8441-b632f8e44dc7",
   "metadata": {},
   "outputs": [
    {
     "data": {
      "text/html": [
       "<div>\n",
       "<style scoped>\n",
       "    .dataframe tbody tr th:only-of-type {\n",
       "        vertical-align: middle;\n",
       "    }\n",
       "\n",
       "    .dataframe tbody tr th {\n",
       "        vertical-align: top;\n",
       "    }\n",
       "\n",
       "    .dataframe thead th {\n",
       "        text-align: right;\n",
       "    }\n",
       "</style>\n",
       "<table border=\"1\" class=\"dataframe\">\n",
       "  <thead>\n",
       "    <tr style=\"text-align: right;\">\n",
       "      <th></th>\n",
       "      <th>bite</th>\n",
       "      <th>year</th>\n",
       "      <th>month</th>\n",
       "      <th>day</th>\n",
       "      <th>month_number</th>\n",
       "      <th>weekday_number</th>\n",
       "    </tr>\n",
       "    <tr>\n",
       "      <th>dateofbite</th>\n",
       "      <th></th>\n",
       "      <th></th>\n",
       "      <th></th>\n",
       "      <th></th>\n",
       "      <th></th>\n",
       "      <th></th>\n",
       "    </tr>\n",
       "  </thead>\n",
       "  <tbody>\n",
       "    <tr>\n",
       "      <th>2015-01-01</th>\n",
       "      <td>7</td>\n",
       "      <td>2015</td>\n",
       "      <td>January</td>\n",
       "      <td>Thursday</td>\n",
       "      <td>1</td>\n",
       "      <td>3</td>\n",
       "    </tr>\n",
       "  </tbody>\n",
       "</table>\n",
       "</div>"
      ],
      "text/plain": [
       "            bite  year    month       day  month_number  weekday_number\n",
       "dateofbite                                                             \n",
       "2015-01-01     7  2015  January  Thursday             1               3"
      ]
     },
     "execution_count": 27,
     "metadata": {},
     "output_type": "execute_result"
    }
   ],
   "source": [
    "# create a year, month, day column from the index\n",
    "dogs[\"year\"] = dogs.index.year\n",
    "dogs[\"month\"] = dogs.index.month_name()\n",
    "dogs[\"day\"] = dogs.index.day_name()\n",
    "\n",
    "dogs[\"month_number\"] = dogs.index.month\n",
    "dogs[\"weekday_number\"] = dogs.index.weekday\n",
    "\n",
    "dogs.head(1)"
   ]
  },
  {
   "cell_type": "markdown",
   "id": "353ce357-2df0-42cd-b5d8-a0e95292ef57",
   "metadata": {},
   "source": [
    "**Split data**\n",
    "\n",
    "Use human based approach for spliting because I can see a clear seasonality in the data."
   ]
  },
  {
   "cell_type": "code",
   "execution_count": 28,
   "id": "4269794a-6193-4694-aca9-3f07373d2327",
   "metadata": {},
   "outputs": [
    {
     "data": {
      "text/plain": [
       "((1461, 6), (731, 6), (365, 6))"
      ]
     },
     "execution_count": 28,
     "metadata": {},
     "output_type": "execute_result"
    }
   ],
   "source": [
    "# split data\n",
    "train = dogs[:\"2018\"]\n",
    "validate = dogs[\"2019\":\"2020\"]\n",
    "test = dogs[\"2021\":]\n",
    "\n",
    "train.shape, validate.shape, test.shape"
   ]
  },
  {
   "cell_type": "code",
   "execution_count": 29,
   "id": "68e18299-8dfb-4296-ad2c-4c383830d6cb",
   "metadata": {},
   "outputs": [
    {
     "data": {
      "text/plain": [
       "'Four data sets saved as .csv'"
      ]
     },
     "execution_count": 29,
     "metadata": {},
     "output_type": "execute_result"
    }
   ],
   "source": [
    "# save the split data\n",
    "prepare_.save_split_data_(cleaned_data=dogs, train=train, validate=validate, test=test)"
   ]
  },
  {
   "cell_type": "markdown",
   "id": "74b2cc5a-fdb0-4df0-a9be-36d1a00f53dd",
   "metadata": {},
   "source": [
    "**Actions taken and takeaways**\n",
    "\n",
    "- Rename columns.\n",
    "- Convert data types (dateofbite).\n",
    "- Drop columns (all except dateofbite).\n",
    "- Drop duplicates (541, 2%).\n",
    "- Set and sort date index.\n",
    "- Check for gaps in time (0 days missing).\n",
    "    - Erliest time (2015-01-01).\n",
    "    - Latest time (2021-12-31).\n",
    "- Create a dog bit target column.\n",
    "    - Becas=use each row is a successfully recorded dog bite all rows are assigned to value 1.\n",
    "- Use human-based splitting.\n",
    "    - Because there is clear seasonality in the data."
   ]
  }
 ],
 "metadata": {
  "kernelspec": {
   "display_name": "Python 3 (ipykernel)",
   "language": "python",
   "name": "python3"
  },
  "language_info": {
   "codemirror_mode": {
    "name": "ipython",
    "version": 3
   },
   "file_extension": ".py",
   "mimetype": "text/x-python",
   "name": "python",
   "nbconvert_exporter": "python",
   "pygments_lexer": "ipython3",
   "version": "3.10.9"
  }
 },
 "nbformat": 4,
 "nbformat_minor": 5
}
