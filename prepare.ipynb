{
 "cells": [
  {
   "cell_type": "markdown",
   "id": "65207d37",
   "metadata": {},
   "source": [
    "# Prepare\n",
    "\n",
    "For preparations I will follow a fast aproach and I will remove all columns that are not helpfull.\n",
    "\n",
    "**import**"
   ]
  },
  {
   "cell_type": "code",
   "execution_count": 1,
   "id": "d979536a",
   "metadata": {},
   "outputs": [],
   "source": [
    "# data manipulation\n",
    "import pandas as pd\n",
    "import numpy as np\n",
    "from datetime import datetime\n",
    "\n",
    "# data\n",
    "import requests\n",
    "\n",
    "# data visualization\n",
    "import matplotlib.pyplot as plt\n",
    "import seaborn as sns\n",
    "\n",
    "# spliting the data\n",
    "from sklearn.model_selection import TimeSeriesSplit\n",
    "from math import ceil\n",
    "\n",
    "# system manipulation\n",
    "import sys\n",
    "sys.path.append(\"./util_\")\n",
    "import acquire_\n",
    "# import prepare_\n",
    "\n",
    "# other\n",
    "import warnings\n",
    "warnings.filterwarnings(\"ignore\")"
   ]
  },
  {
   "cell_type": "markdown",
   "id": "9f22aec7",
   "metadata": {},
   "source": [
    "### get data"
   ]
  },
  {
   "cell_type": "code",
   "execution_count": 2,
   "id": "11fe43ef",
   "metadata": {},
   "outputs": [
    {
     "data": {
      "text/html": [
       "<div>\n",
       "<style scoped>\n",
       "    .dataframe tbody tr th:only-of-type {\n",
       "        vertical-align: middle;\n",
       "    }\n",
       "\n",
       "    .dataframe tbody tr th {\n",
       "        vertical-align: top;\n",
       "    }\n",
       "\n",
       "    .dataframe thead th {\n",
       "        text-align: right;\n",
       "    }\n",
       "</style>\n",
       "<table border=\"1\" class=\"dataframe\">\n",
       "  <thead>\n",
       "    <tr style=\"text-align: right;\">\n",
       "      <th></th>\n",
       "      <th>DateOfBite</th>\n",
       "      <th>Species</th>\n",
       "      <th>Breed</th>\n",
       "      <th>Age</th>\n",
       "      <th>Gender</th>\n",
       "      <th>SpayNeuter</th>\n",
       "      <th>Borough</th>\n",
       "      <th>ZipCode</th>\n",
       "    </tr>\n",
       "    <tr>\n",
       "      <th>UniqueID</th>\n",
       "      <th></th>\n",
       "      <th></th>\n",
       "      <th></th>\n",
       "      <th></th>\n",
       "      <th></th>\n",
       "      <th></th>\n",
       "      <th></th>\n",
       "      <th></th>\n",
       "    </tr>\n",
       "  </thead>\n",
       "  <tbody>\n",
       "    <tr>\n",
       "      <th>1</th>\n",
       "      <td>January 01 2018</td>\n",
       "      <td>DOG</td>\n",
       "      <td>UNKNOWN</td>\n",
       "      <td>NaN</td>\n",
       "      <td>U</td>\n",
       "      <td>False</td>\n",
       "      <td>Brooklyn</td>\n",
       "      <td>11220</td>\n",
       "    </tr>\n",
       "    <tr>\n",
       "      <th>2</th>\n",
       "      <td>January 04 2018</td>\n",
       "      <td>DOG</td>\n",
       "      <td>UNKNOWN</td>\n",
       "      <td>NaN</td>\n",
       "      <td>U</td>\n",
       "      <td>False</td>\n",
       "      <td>Brooklyn</td>\n",
       "      <td>NaN</td>\n",
       "    </tr>\n",
       "    <tr>\n",
       "      <th>3</th>\n",
       "      <td>January 06 2018</td>\n",
       "      <td>DOG</td>\n",
       "      <td>Pit Bull</td>\n",
       "      <td>NaN</td>\n",
       "      <td>U</td>\n",
       "      <td>False</td>\n",
       "      <td>Brooklyn</td>\n",
       "      <td>11224</td>\n",
       "    </tr>\n",
       "    <tr>\n",
       "      <th>4</th>\n",
       "      <td>January 08 2018</td>\n",
       "      <td>DOG</td>\n",
       "      <td>Mixed/Other</td>\n",
       "      <td>4</td>\n",
       "      <td>M</td>\n",
       "      <td>False</td>\n",
       "      <td>Brooklyn</td>\n",
       "      <td>11231</td>\n",
       "    </tr>\n",
       "    <tr>\n",
       "      <th>5</th>\n",
       "      <td>January 09 2018</td>\n",
       "      <td>DOG</td>\n",
       "      <td>Pit Bull</td>\n",
       "      <td>NaN</td>\n",
       "      <td>U</td>\n",
       "      <td>False</td>\n",
       "      <td>Brooklyn</td>\n",
       "      <td>11224</td>\n",
       "    </tr>\n",
       "  </tbody>\n",
       "</table>\n",
       "</div>"
      ],
      "text/plain": [
       "               DateOfBite Species        Breed  Age Gender  SpayNeuter  \\\n",
       "UniqueID                                                                 \n",
       "1         January 01 2018     DOG      UNKNOWN  NaN      U       False   \n",
       "2         January 04 2018     DOG      UNKNOWN  NaN      U       False   \n",
       "3         January 06 2018     DOG     Pit Bull  NaN      U       False   \n",
       "4         January 08 2018     DOG  Mixed/Other    4      M       False   \n",
       "5         January 09 2018     DOG     Pit Bull  NaN      U       False   \n",
       "\n",
       "           Borough ZipCode  \n",
       "UniqueID                    \n",
       "1         Brooklyn   11220  \n",
       "2         Brooklyn     NaN  \n",
       "3         Brooklyn   11224  \n",
       "4         Brooklyn   11231  \n",
       "5         Brooklyn   11224  "
      ]
     },
     "execution_count": 2,
     "metadata": {},
     "output_type": "execute_result"
    }
   ],
   "source": [
    "# get data from acquire file\n",
    "dogs = acquire_.get_dogs_data()\n",
    "dogs.head()"
   ]
  },
  {
   "cell_type": "markdown",
   "id": "52debaa9-6eff-4955-b582-f39c35f15315",
   "metadata": {},
   "source": [
    "**Rename columns**"
   ]
  },
  {
   "cell_type": "code",
   "execution_count": 3,
   "id": "9c8359f9-dfbe-46fb-84e6-95b14626ee30",
   "metadata": {},
   "outputs": [
    {
     "data": {
      "text/html": [
       "<div>\n",
       "<style scoped>\n",
       "    .dataframe tbody tr th:only-of-type {\n",
       "        vertical-align: middle;\n",
       "    }\n",
       "\n",
       "    .dataframe tbody tr th {\n",
       "        vertical-align: top;\n",
       "    }\n",
       "\n",
       "    .dataframe thead th {\n",
       "        text-align: right;\n",
       "    }\n",
       "</style>\n",
       "<table border=\"1\" class=\"dataframe\">\n",
       "  <thead>\n",
       "    <tr style=\"text-align: right;\">\n",
       "      <th></th>\n",
       "      <th>dateofbite</th>\n",
       "      <th>species</th>\n",
       "      <th>breed</th>\n",
       "      <th>age</th>\n",
       "      <th>gender</th>\n",
       "      <th>spayneuter</th>\n",
       "      <th>borough</th>\n",
       "      <th>zipcode</th>\n",
       "    </tr>\n",
       "    <tr>\n",
       "      <th>UniqueID</th>\n",
       "      <th></th>\n",
       "      <th></th>\n",
       "      <th></th>\n",
       "      <th></th>\n",
       "      <th></th>\n",
       "      <th></th>\n",
       "      <th></th>\n",
       "      <th></th>\n",
       "    </tr>\n",
       "  </thead>\n",
       "  <tbody>\n",
       "    <tr>\n",
       "      <th>1</th>\n",
       "      <td>January 01 2018</td>\n",
       "      <td>DOG</td>\n",
       "      <td>UNKNOWN</td>\n",
       "      <td>NaN</td>\n",
       "      <td>U</td>\n",
       "      <td>False</td>\n",
       "      <td>Brooklyn</td>\n",
       "      <td>11220</td>\n",
       "    </tr>\n",
       "  </tbody>\n",
       "</table>\n",
       "</div>"
      ],
      "text/plain": [
       "               dateofbite species    breed  age gender  spayneuter   borough  \\\n",
       "UniqueID                                                                       \n",
       "1         January 01 2018     DOG  UNKNOWN  NaN      U       False  Brooklyn   \n",
       "\n",
       "         zipcode  \n",
       "UniqueID          \n",
       "1          11220  "
      ]
     },
     "execution_count": 3,
     "metadata": {},
     "output_type": "execute_result"
    }
   ],
   "source": [
    "# make the columsn lower case\n",
    "# replace spaces\n",
    "dogs.columns = dogs.columns.str.lower().str.strip().str.replace(\"†\",\"\").str.replace(\" \",\"_\")\n",
    "dogs.head(1)"
   ]
  },
  {
   "cell_type": "markdown",
   "id": "bf158d38-a2d7-411e-a5d1-6daa0b8342e4",
   "metadata": {},
   "source": [
    "**Convert data types**"
   ]
  },
  {
   "cell_type": "code",
   "execution_count": 4,
   "id": "783d93ce-a63b-485b-a22f-432a7075bf1e",
   "metadata": {},
   "outputs": [
    {
     "data": {
      "text/plain": [
       "dateofbite    object\n",
       "species       object\n",
       "breed         object\n",
       "age           object\n",
       "gender        object\n",
       "spayneuter      bool\n",
       "borough       object\n",
       "zipcode       object\n",
       "dtype: object"
      ]
     },
     "execution_count": 4,
     "metadata": {},
     "output_type": "execute_result"
    }
   ],
   "source": [
    "# view datatypes\n",
    "dogs.dtypes"
   ]
  },
  {
   "cell_type": "code",
   "execution_count": 5,
   "id": "632e1485-e162-4c0e-bc9e-135bd1fbce5b",
   "metadata": {},
   "outputs": [
    {
     "name": "stdout",
     "output_type": "stream",
     "text": [
      "____________________ DATEOFBITE\n",
      "7     299\n",
      "9     276\n",
      "6     267\n",
      "8     228\n",
      "10    219\n",
      "5     208\n",
      "11    192\n",
      "12    164\n",
      "4     127\n",
      "13    124\n",
      "14     97\n",
      "3      93\n",
      "15     65\n",
      "16     52\n",
      "17     38\n",
      "2      37\n",
      "1      16\n",
      "19     15\n",
      "18     14\n",
      "20     11\n",
      "21      4\n",
      "22      4\n",
      "24      2\n",
      "25      2\n",
      "23      1\n",
      "Name: dateofbite, dtype: int64\n",
      "____________________ SPECIES\n",
      "22663    1\n",
      "Name: species, dtype: int64\n",
      "____________________ BREED\n",
      "1      1186\n",
      "2       162\n",
      "3        54\n",
      "4        39\n",
      "5        24\n",
      "       ... \n",
      "95        1\n",
      "106       1\n",
      "123       1\n",
      "127       1\n",
      "53        1\n",
      "Name: breed, Length: 89, dtype: int64\n",
      "____________________ AGE\n",
      "1       122\n",
      "2        31\n",
      "3         8\n",
      "4         7\n",
      "6         6\n",
      "9         6\n",
      "5         4\n",
      "20        3\n",
      "10        2\n",
      "13        2\n",
      "11        2\n",
      "7         2\n",
      "50        2\n",
      "45        1\n",
      "8         1\n",
      "14        1\n",
      "17        1\n",
      "22        1\n",
      "26        1\n",
      "27        1\n",
      "33        1\n",
      "34        1\n",
      "1624      1\n",
      "1504      1\n",
      "242       1\n",
      "1365      1\n",
      "1178      1\n",
      "1040      1\n",
      "795       1\n",
      "655       1\n",
      "569       1\n",
      "375       1\n",
      "361       1\n",
      "188       1\n",
      "51        1\n",
      "140       1\n",
      "83        1\n",
      "80        1\n",
      "75        1\n",
      "70        1\n",
      "66        1\n",
      "65        1\n",
      "55        1\n",
      "47        1\n",
      "Name: age, dtype: int64\n",
      "____________________ GENDER\n",
      "10535    1\n",
      "8739     1\n",
      "3389     1\n",
      "Name: gender, dtype: int64\n",
      "____________________ SPAYNEUTER\n",
      "16787    1\n",
      "5876     1\n",
      "Name: spayneuter, dtype: int64\n",
      "____________________ BOROUGH\n",
      "5773    1\n",
      "5270    1\n",
      "4985    1\n",
      "3782    1\n",
      "1872    1\n",
      "981     1\n",
      "Name: borough, dtype: int64\n",
      "____________________ ZIPCODE\n",
      "1      271\n",
      "2       44\n",
      "3       11\n",
      "4        5\n",
      "50       4\n",
      "      ... \n",
      "68       1\n",
      "69       1\n",
      "70       1\n",
      "72       1\n",
      "369      1\n",
      "Name: zipcode, Length: 121, dtype: int64\n"
     ]
    }
   ],
   "source": [
    "# count the unique value counts in each column\n",
    "for i in dogs.columns:\n",
    "    print(\"_\" * 20, i.upper())\n",
    "    print(dogs[i].value_counts().value_counts())"
   ]
  },
  {
   "cell_type": "code",
   "execution_count": 6,
   "id": "814fcb8e",
   "metadata": {},
   "outputs": [],
   "source": [
    "# convert string to datetime\n",
    "dogs.dateofbite = dogs.dateofbite.astype(\"datetime64\")"
   ]
  },
  {
   "cell_type": "markdown",
   "id": "4a309d51-2257-4c78-af8f-162f73342aa5",
   "metadata": {},
   "source": [
    "**Find nulls**"
   ]
  },
  {
   "cell_type": "code",
   "execution_count": 7,
   "id": "98958e99-9ff5-46fb-8294-3a6461d20786",
   "metadata": {},
   "outputs": [
    {
     "data": {
      "text/plain": [
       "dateofbite        0\n",
       "species           0\n",
       "breed          2218\n",
       "age           11221\n",
       "gender            0\n",
       "spayneuter        0\n",
       "borough           0\n",
       "zipcode        5858\n",
       "dtype: int64"
      ]
     },
     "execution_count": 7,
     "metadata": {},
     "output_type": "execute_result"
    }
   ],
   "source": [
    "dogs.isna().sum()"
   ]
  },
  {
   "cell_type": "markdown",
   "id": "ee771bc1-9968-4224-b1ef-c62464820b7c",
   "metadata": {},
   "source": [
    "**Drop duplicate**"
   ]
  },
  {
   "cell_type": "code",
   "execution_count": 8,
   "id": "2479b18a-32a0-42f9-b3d6-bd53dcf2e5e7",
   "metadata": {},
   "outputs": [],
   "source": [
    "# remove duplicated rows\n",
    "dogs = dogs.drop_duplicates()"
   ]
  },
  {
   "cell_type": "markdown",
   "id": "6633679f-99f9-47ea-990e-1ed672ff9398",
   "metadata": {},
   "source": [
    "**Drop columns**"
   ]
  },
  {
   "cell_type": "code",
   "execution_count": 9,
   "id": "ad81875b-9bcf-4ec8-83a0-b3f3ab1bd8be",
   "metadata": {},
   "outputs": [
    {
     "data": {
      "text/plain": [
       "Index(['dateofbite', 'species', 'breed', 'age', 'gender', 'spayneuter',\n",
       "       'borough', 'zipcode'],\n",
       "      dtype='object')"
      ]
     },
     "execution_count": 9,
     "metadata": {},
     "output_type": "execute_result"
    }
   ],
   "source": [
    "dogs.columns"
   ]
  },
  {
   "cell_type": "code",
   "execution_count": 10,
   "id": "ff004df7-e748-41ee-8960-baf0a8768e17",
   "metadata": {},
   "outputs": [
    {
     "data": {
      "text/html": [
       "<div>\n",
       "<style scoped>\n",
       "    .dataframe tbody tr th:only-of-type {\n",
       "        vertical-align: middle;\n",
       "    }\n",
       "\n",
       "    .dataframe tbody tr th {\n",
       "        vertical-align: top;\n",
       "    }\n",
       "\n",
       "    .dataframe thead th {\n",
       "        text-align: right;\n",
       "    }\n",
       "</style>\n",
       "<table border=\"1\" class=\"dataframe\">\n",
       "  <thead>\n",
       "    <tr style=\"text-align: right;\">\n",
       "      <th></th>\n",
       "      <th>dateofbite</th>\n",
       "    </tr>\n",
       "    <tr>\n",
       "      <th>UniqueID</th>\n",
       "      <th></th>\n",
       "    </tr>\n",
       "  </thead>\n",
       "  <tbody>\n",
       "    <tr>\n",
       "      <th>1</th>\n",
       "      <td>2018-01-01</td>\n",
       "    </tr>\n",
       "    <tr>\n",
       "      <th>2</th>\n",
       "      <td>2018-01-04</td>\n",
       "    </tr>\n",
       "    <tr>\n",
       "      <th>3</th>\n",
       "      <td>2018-01-06</td>\n",
       "    </tr>\n",
       "    <tr>\n",
       "      <th>4</th>\n",
       "      <td>2018-01-08</td>\n",
       "    </tr>\n",
       "    <tr>\n",
       "      <th>5</th>\n",
       "      <td>2018-01-09</td>\n",
       "    </tr>\n",
       "  </tbody>\n",
       "</table>\n",
       "</div>"
      ],
      "text/plain": [
       "         dateofbite\n",
       "UniqueID           \n",
       "1        2018-01-01\n",
       "2        2018-01-04\n",
       "3        2018-01-06\n",
       "4        2018-01-08\n",
       "5        2018-01-09"
      ]
     },
     "execution_count": 10,
     "metadata": {},
     "output_type": "execute_result"
    }
   ],
   "source": [
    "# extract date column and remove everything else\n",
    "dogs = dogs[dogs.columns[dogs.columns.isin([\"dateofbite\"])]]\n",
    "dogs.head()"
   ]
  },
  {
   "cell_type": "markdown",
   "id": "69d8cffb-c871-4c6f-b0a9-23e80d92ada9",
   "metadata": {},
   "source": [
    "**Create my target**"
   ]
  },
  {
   "cell_type": "code",
   "execution_count": 11,
   "id": "91a523f8-3df9-498c-b72a-4be77e42f010",
   "metadata": {},
   "outputs": [],
   "source": [
    "# create my target bite column\n",
    "dogs[\"bite\"] = int(1)"
   ]
  },
  {
   "cell_type": "code",
   "execution_count": 12,
   "id": "4fd42475-10cc-4607-a122-9ae0a15afca0",
   "metadata": {},
   "outputs": [
    {
     "data": {
      "text/html": [
       "<div>\n",
       "<style scoped>\n",
       "    .dataframe tbody tr th:only-of-type {\n",
       "        vertical-align: middle;\n",
       "    }\n",
       "\n",
       "    .dataframe tbody tr th {\n",
       "        vertical-align: top;\n",
       "    }\n",
       "\n",
       "    .dataframe thead th {\n",
       "        text-align: right;\n",
       "    }\n",
       "</style>\n",
       "<table border=\"1\" class=\"dataframe\">\n",
       "  <thead>\n",
       "    <tr style=\"text-align: right;\">\n",
       "      <th></th>\n",
       "      <th>bite</th>\n",
       "    </tr>\n",
       "    <tr>\n",
       "      <th>dateofbite</th>\n",
       "      <th></th>\n",
       "    </tr>\n",
       "  </thead>\n",
       "  <tbody>\n",
       "    <tr>\n",
       "      <th>2015-01-01</th>\n",
       "      <td>1</td>\n",
       "    </tr>\n",
       "  </tbody>\n",
       "</table>\n",
       "</div>"
      ],
      "text/plain": [
       "            bite\n",
       "dateofbite      \n",
       "2015-01-01     1"
      ]
     },
     "execution_count": 12,
     "metadata": {},
     "output_type": "execute_result"
    }
   ],
   "source": [
    "# set the date to be the indexinf column\n",
    "dogs = dogs.set_index(\"dateofbite\").sort_index()\n",
    "dogs.head(1)"
   ]
  },
  {
   "cell_type": "markdown",
   "id": "ba2ccbaa-6793-4985-b229-2724ced2bd15",
   "metadata": {},
   "source": [
    "**Frequency of time**"
   ]
  },
  {
   "cell_type": "code",
   "execution_count": 16,
   "id": "d0e68746-175b-4fb1-88bd-6526e16a79a5",
   "metadata": {},
   "outputs": [
    {
     "data": {
      "text/plain": [
       "2015-06-06    25\n",
       "2017-09-16    25\n",
       "2018-06-23    24\n",
       "2018-07-04    23\n",
       "2018-06-02    22\n",
       "              ..\n",
       "2020-05-08     1\n",
       "2020-10-06     1\n",
       "2021-03-02     1\n",
       "2016-03-14     1\n",
       "2021-12-31     1\n",
       "Name: dateofbite, Length: 2555, dtype: int64"
      ]
     },
     "execution_count": 16,
     "metadata": {},
     "output_type": "execute_result"
    }
   ],
   "source": [
    "# occurrences of each date\n",
    "dogs.index.value_counts()"
   ]
  },
  {
   "cell_type": "code",
   "execution_count": 18,
   "id": "bca33230-4a56-4b5d-9358-0bde005ff304",
   "metadata": {},
   "outputs": [
    {
     "data": {
      "text/plain": [
       "6     289\n",
       "7     286\n",
       "9     275\n",
       "8     248\n",
       "10    227\n",
       "5     224\n",
       "11    196\n",
       "12    147\n",
       "13    126\n",
       "4     126\n",
       "3      99\n",
       "14     88\n",
       "15     56\n",
       "16     39\n",
       "2      38\n",
       "17     34\n",
       "1      16\n",
       "19     12\n",
       "18     11\n",
       "20      8\n",
       "21      3\n",
       "22      3\n",
       "25      2\n",
       "24      1\n",
       "23      1\n",
       "Name: dateofbite, dtype: int64"
      ]
     },
     "execution_count": 18,
     "metadata": {},
     "output_type": "execute_result"
    }
   ],
   "source": [
    "# occurrences of each dates occurrence\n",
    "dogs.index.value_counts().value_counts()"
   ]
  },
  {
   "cell_type": "markdown",
   "id": "dd3f87c5-af17-45ea-9aad-13ad333ae706",
   "metadata": {},
   "source": [
    "**Check for gaps in time**"
   ]
  },
  {
   "cell_type": "code",
   "execution_count": 19,
   "id": "a3011f86-9cc4-4fcb-bac9-311b8a04e944",
   "metadata": {},
   "outputs": [
    {
     "data": {
      "text/plain": [
       "Timestamp('2015-01-01 00:00:00')"
      ]
     },
     "execution_count": 19,
     "metadata": {},
     "output_type": "execute_result"
    }
   ],
   "source": [
    "# earliest date\n",
    "min_date = dogs.index.min()\n",
    "min_date"
   ]
  },
  {
   "cell_type": "code",
   "execution_count": 20,
   "id": "32667aa7-68b5-4a3c-982a-b02d75961f03",
   "metadata": {},
   "outputs": [
    {
     "data": {
      "text/plain": [
       "Timestamp('2021-12-31 00:00:00')"
      ]
     },
     "execution_count": 20,
     "metadata": {},
     "output_type": "execute_result"
    }
   ],
   "source": [
    "# latest date\n",
    "max_date = dogs.index.max()\n",
    "max_date"
   ]
  },
  {
   "cell_type": "code",
   "execution_count": null,
   "id": "3f6292d5-1a44-416a-b5a9-db063458d5cd",
   "metadata": {},
   "outputs": [],
   "source": []
  },
  {
   "cell_type": "code",
   "execution_count": null,
   "id": "43dc00f2-47d9-494b-8890-cf8971d4e3d1",
   "metadata": {},
   "outputs": [],
   "source": []
  },
  {
   "cell_type": "code",
   "execution_count": null,
   "id": "8c7eca56-e36f-4948-be18-e1e791df06f3",
   "metadata": {},
   "outputs": [],
   "source": []
  },
  {
   "cell_type": "code",
   "execution_count": null,
   "id": "7d9da75d-fb37-4950-a87f-668d14987a91",
   "metadata": {},
   "outputs": [],
   "source": []
  },
  {
   "cell_type": "code",
   "execution_count": 13,
   "id": "5cd49a76",
   "metadata": {},
   "outputs": [],
   "source": [
    "# # find all year strings ages\n",
    "# dogs[dogs.Age == \"\"]"
   ]
  },
  {
   "cell_type": "code",
   "execution_count": 14,
   "id": "84cabe76",
   "metadata": {},
   "outputs": [],
   "source": [
    "# # get all the cells that are not nulls\n",
    "# non_null_dogs = dogs[dogs.Age.notna()]\n",
    "\n",
    "# # find all year strings ages\n",
    "# y = non_null_dogs[non_null_dogs.Age.str.contains(r\"[yY]\", regex=True)]\n",
    "\n",
    "# # use extract to only get the numbers in the string cells representing yesr\n",
    "# y[\"good_year\"] = y.Age.str.extract(\"(\\d+)\")\n",
    "# y.head()"
   ]
  },
  {
   "cell_type": "code",
   "execution_count": 15,
   "id": "592e0a15",
   "metadata": {
    "scrolled": true
   },
   "outputs": [],
   "source": [
    "# # find all month strings ages\n",
    "# m = non_null_dogs[non_null_dogs.Age.str.contains(r\"[mM]\", regex=True)]\n",
    "# m[\"good_year\"] = m.Age.str.extract(\"(\\d+)\").astype(int) / 12\n",
    "# m.head()"
   ]
  },
  {
   "cell_type": "code",
   "execution_count": 16,
   "id": "183611dd",
   "metadata": {},
   "outputs": [],
   "source": [
    "# # find all weeks strings ages\n",
    "# w = non_null_dogs[non_null_dogs.Age.str.contains(r\"[KkwW]\", regex=True)]\n",
    "# w[\"good_year\"] = w.Age.str.extract(\"(\\d+)\").astype(int) / 54\n",
    "# w.head()\n"
   ]
  },
  {
   "cell_type": "code",
   "execution_count": null,
   "id": "600c88aa",
   "metadata": {},
   "outputs": [],
   "source": []
  },
  {
   "cell_type": "code",
   "execution_count": null,
   "id": "cf700f9c-01b7-424e-b504-eb037daf7fb6",
   "metadata": {},
   "outputs": [],
   "source": []
  },
  {
   "cell_type": "code",
   "execution_count": null,
   "id": "778bd0ef-45fe-428f-b040-5a1778218872",
   "metadata": {},
   "outputs": [],
   "source": []
  },
  {
   "cell_type": "code",
   "execution_count": null,
   "id": "f87a7b33-87ae-414d-a345-5a8568f3e219",
   "metadata": {},
   "outputs": [],
   "source": []
  },
  {
   "cell_type": "code",
   "execution_count": null,
   "id": "070e9a9a-a4f9-4237-8d0b-0cc4639b8df3",
   "metadata": {},
   "outputs": [],
   "source": []
  }
 ],
 "metadata": {
  "kernelspec": {
   "display_name": "Python 3 (ipykernel)",
   "language": "python",
   "name": "python3"
  },
  "language_info": {
   "codemirror_mode": {
    "name": "ipython",
    "version": 3
   },
   "file_extension": ".py",
   "mimetype": "text/x-python",
   "name": "python",
   "nbconvert_exporter": "python",
   "pygments_lexer": "ipython3",
   "version": "3.10.9"
  }
 },
 "nbformat": 4,
 "nbformat_minor": 5
}
